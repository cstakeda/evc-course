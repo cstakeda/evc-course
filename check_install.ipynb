{
 "cells": [
  {
   "cell_type": "markdown",
   "id": "knowing-facing",
   "metadata": {},
   "source": [
    "# Setup Check Notebook\n",
    "\n",
    "Run this notebook to check that your software setup is ready for the course.\n",
    "\n",
    "Click on `Cells > Run All` (or `Run > Run all cells`). If this notebook runs without error, then you are ready to go!\n"
   ]
  },
  {
   "cell_type": "code",
   "execution_count": null,
   "id": "bronze-anxiety",
   "metadata": {},
   "outputs": [],
   "source": [
    "import grama as gr\n",
    "from nycflights13 import flights as df_flights\n",
    "\n",
    "print(\"Success!\")\n"
   ]
  }
 ],
 "metadata": {
  "kernelspec": {
   "display_name": "Python 3 (ipykernel)",
   "language": "python",
   "name": "python3"
  },
  "language_info": {
   "codemirror_mode": {
    "name": "ipython",
    "version": 3
   },
   "file_extension": ".py",
   "mimetype": "text/x-python",
   "name": "python",
   "nbconvert_exporter": "python",
   "pygments_lexer": "ipython3",
   "version": "3.8.8"
  }
 },
 "nbformat": 4,
 "nbformat_minor": 5
}
