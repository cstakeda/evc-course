{
 "cells": [
  {
   "cell_type": "markdown",
   "id": "78bbe062-45ae-4b01-b4e9-9ff4a334f1d9",
   "metadata": {},
   "source": [
    "# c03-stang\n",
    "\n",
    "*Purpose*: When designing structures such as bridges, boats, and planes, the design team needs data about *material properties*. Often when we engineers first learn about material properties through coursework, we talk about abstract ideas and look up values in tables without ever looking at the data that gave rise to published properties. In this challenge you'll study an aluminum alloy dataset: This will give you a better sense of the challenges underlying published material values.\n",
    "\n",
    "We will also use grama to connect these material properties to engineering outcomes: This will give you a sense for how variability\n",
    "\n",
    "In this challenge, you will load a real dataset, wrangle it into tidy form, and perform EDA to learn more about the data.\n"
   ]
  },
  {
   "cell_type": "code",
   "execution_count": 1,
   "id": "311b7039-9043-41c4-a458-cc82d477c770",
   "metadata": {},
   "outputs": [],
   "source": [
    "import grama as gr\n",
    "import pandas as pd\n",
    "import numpy as np\n",
    "from pandas.api.types import is_numeric_dtype\n",
    "\n",
    "DF = gr.Intention()"
   ]
  },
  {
   "cell_type": "markdown",
   "id": "c94b7870-dab4-4df3-bf5a-a1d1bd4f6fb3",
   "metadata": {},
   "source": [
    "## Background\n",
    "\n",
    "In 1946, scientists at the Bureau of Standards tested a number of Aluminum plates to determine their [elasticity](https://en.wikipedia.org/wiki/Elastic_modulus) and [Poisson's ratio](https://en.wikipedia.org/wiki/Poisson%27s_ratio) [1]. These are key quantities used in the design of structural members, such as aircraft skin under [buckling loads](https://en.wikipedia.org/wiki/Buckling). These scientists tested plats of various thicknesses, and at different angles with respect to the [rolling](https://en.wikipedia.org/wiki/Rolling_(metalworking)) direction.\n"
   ]
  },
  {
   "cell_type": "code",
   "execution_count": 2,
   "id": "15a59c1c-e5c5-445f-9dd4-43901b140352",
   "metadata": {},
   "outputs": [
    {
     "data": {
      "text/html": [
       "<div>\n",
       "<style scoped>\n",
       "    .dataframe tbody tr th:only-of-type {\n",
       "        vertical-align: middle;\n",
       "    }\n",
       "\n",
       "    .dataframe tbody tr th {\n",
       "        vertical-align: top;\n",
       "    }\n",
       "\n",
       "    .dataframe thead th {\n",
       "        text-align: right;\n",
       "    }\n",
       "</style>\n",
       "<table border=\"1\" class=\"dataframe\">\n",
       "  <thead>\n",
       "    <tr style=\"text-align: right;\">\n",
       "      <th></th>\n",
       "      <th>thick</th>\n",
       "      <th>E_00</th>\n",
       "      <th>mu_00</th>\n",
       "      <th>E_45</th>\n",
       "      <th>mu_45</th>\n",
       "      <th>E_90</th>\n",
       "      <th>mu_90</th>\n",
       "      <th>alloy</th>\n",
       "    </tr>\n",
       "  </thead>\n",
       "  <tbody>\n",
       "    <tr>\n",
       "      <th>0</th>\n",
       "      <td>0.022</td>\n",
       "      <td>10600</td>\n",
       "      <td>0.321</td>\n",
       "      <td>10700</td>\n",
       "      <td>0.329</td>\n",
       "      <td>10500</td>\n",
       "      <td>0.310</td>\n",
       "      <td>al_24st</td>\n",
       "    </tr>\n",
       "    <tr>\n",
       "      <th>1</th>\n",
       "      <td>0.022</td>\n",
       "      <td>10600</td>\n",
       "      <td>0.323</td>\n",
       "      <td>10500</td>\n",
       "      <td>0.331</td>\n",
       "      <td>10700</td>\n",
       "      <td>0.323</td>\n",
       "      <td>al_24st</td>\n",
       "    </tr>\n",
       "    <tr>\n",
       "      <th>2</th>\n",
       "      <td>0.032</td>\n",
       "      <td>10400</td>\n",
       "      <td>0.329</td>\n",
       "      <td>10400</td>\n",
       "      <td>0.318</td>\n",
       "      <td>10300</td>\n",
       "      <td>0.322</td>\n",
       "      <td>al_24st</td>\n",
       "    </tr>\n",
       "    <tr>\n",
       "      <th>3</th>\n",
       "      <td>0.032</td>\n",
       "      <td>10300</td>\n",
       "      <td>0.319</td>\n",
       "      <td>10500</td>\n",
       "      <td>0.326</td>\n",
       "      <td>10400</td>\n",
       "      <td>0.330</td>\n",
       "      <td>al_24st</td>\n",
       "    </tr>\n",
       "    <tr>\n",
       "      <th>4</th>\n",
       "      <td>0.064</td>\n",
       "      <td>10500</td>\n",
       "      <td>0.323</td>\n",
       "      <td>10400</td>\n",
       "      <td>0.331</td>\n",
       "      <td>10400</td>\n",
       "      <td>0.327</td>\n",
       "      <td>al_24st</td>\n",
       "    </tr>\n",
       "    <tr>\n",
       "      <th>5</th>\n",
       "      <td>0.064</td>\n",
       "      <td>10700</td>\n",
       "      <td>0.328</td>\n",
       "      <td>10500</td>\n",
       "      <td>0.328</td>\n",
       "      <td>10500</td>\n",
       "      <td>0.320</td>\n",
       "      <td>al_24st</td>\n",
       "    </tr>\n",
       "    <tr>\n",
       "      <th>6</th>\n",
       "      <td>0.081</td>\n",
       "      <td>10000</td>\n",
       "      <td>0.315</td>\n",
       "      <td>10000</td>\n",
       "      <td>0.320</td>\n",
       "      <td>9900</td>\n",
       "      <td>0.314</td>\n",
       "      <td>al_24st</td>\n",
       "    </tr>\n",
       "    <tr>\n",
       "      <th>7</th>\n",
       "      <td>0.081</td>\n",
       "      <td>10100</td>\n",
       "      <td>0.312</td>\n",
       "      <td>9900</td>\n",
       "      <td>0.312</td>\n",
       "      <td>10000</td>\n",
       "      <td>0.316</td>\n",
       "      <td>al_24st</td>\n",
       "    </tr>\n",
       "    <tr>\n",
       "      <th>8</th>\n",
       "      <td>0.081</td>\n",
       "      <td>10000</td>\n",
       "      <td>0.311</td>\n",
       "      <td>-1</td>\n",
       "      <td>-1.000</td>\n",
       "      <td>9900</td>\n",
       "      <td>0.314</td>\n",
       "      <td>al_24st</td>\n",
       "    </tr>\n",
       "  </tbody>\n",
       "</table>\n",
       "</div>"
      ],
      "text/plain": [
       "   thick   E_00  mu_00   E_45  mu_45   E_90  mu_90     alloy\n",
       "0  0.022  10600  0.321  10700  0.329  10500  0.310   al_24st\n",
       "1  0.022  10600  0.323  10500  0.331  10700  0.323   al_24st\n",
       "2  0.032  10400  0.329  10400  0.318  10300  0.322   al_24st\n",
       "3  0.032  10300  0.319  10500  0.326  10400  0.330   al_24st\n",
       "4  0.064  10500  0.323  10400  0.331  10400  0.327   al_24st\n",
       "5  0.064  10700  0.328  10500  0.328  10500  0.320   al_24st\n",
       "6  0.081  10000  0.315  10000  0.320   9900  0.314   al_24st\n",
       "7  0.081  10100  0.312   9900  0.312  10000  0.316   al_24st\n",
       "8  0.081  10000  0.311     -1 -1.000   9900  0.314   al_24st"
      ]
     },
     "execution_count": 2,
     "metadata": {},
     "output_type": "execute_result"
    }
   ],
   "source": [
    "from grama.data import df_stang_wide\n",
    "df_stang_wide"
   ]
  },
  {
   "cell_type": "markdown",
   "id": "742999c6-483a-4ec3-b65b-02e6e70c90df",
   "metadata": {},
   "source": [
    "## Setup\n"
   ]
  },
  {
   "cell_type": "markdown",
   "id": "77a8ac0c-8efc-4745-a576-b0348a8b663d",
   "metadata": {},
   "source": [
    "### __q1__ Tidy the data\n",
    "\n",
    "Tidy `df_stang_wide` to produce `df_stang`. You should have column names `thick, alloy, angle, E, nu`. Make sure the `angle` variable is of correct type. Filter out any invalid values.\n",
    "\n",
    "*Hint*: This is **far easier** if you use the special `\".value\"` argument for `names_to`.\n"
   ]
  },
  {
   "cell_type": "code",
   "execution_count": 3,
   "id": "a6d82701-1907-4434-a7e5-41a9cd39c804",
   "metadata": {},
   "outputs": [
    {
     "name": "stderr",
     "output_type": "stream",
     "text": [
      "Warning: \n",
      "A value is trying to be set on a copy of a slice from a DataFrame\n",
      "\n",
      "See the caveats in the documentation: https://pandas.pydata.org/pandas-docs/stable/user_guide/indexing.html#returning-a-view-versus-a-copy\n"
     ]
    },
    {
     "data": {
      "text/html": [
       "<div>\n",
       "<style scoped>\n",
       "    .dataframe tbody tr th:only-of-type {\n",
       "        vertical-align: middle;\n",
       "    }\n",
       "\n",
       "    .dataframe tbody tr th {\n",
       "        vertical-align: top;\n",
       "    }\n",
       "\n",
       "    .dataframe thead th {\n",
       "        text-align: right;\n",
       "    }\n",
       "</style>\n",
       "<table border=\"1\" class=\"dataframe\">\n",
       "  <thead>\n",
       "    <tr style=\"text-align: right;\">\n",
       "      <th></th>\n",
       "      <th>thick</th>\n",
       "      <th>alloy</th>\n",
       "      <th>angle</th>\n",
       "      <th>E</th>\n",
       "      <th>mu</th>\n",
       "    </tr>\n",
       "  </thead>\n",
       "  <tbody>\n",
       "    <tr>\n",
       "      <th>0</th>\n",
       "      <td>0.022</td>\n",
       "      <td>al_24st</td>\n",
       "      <td>0.0</td>\n",
       "      <td>10600.0</td>\n",
       "      <td>0.321</td>\n",
       "    </tr>\n",
       "    <tr>\n",
       "      <th>1</th>\n",
       "      <td>0.022</td>\n",
       "      <td>al_24st</td>\n",
       "      <td>45.0</td>\n",
       "      <td>10700.0</td>\n",
       "      <td>0.329</td>\n",
       "    </tr>\n",
       "    <tr>\n",
       "      <th>2</th>\n",
       "      <td>0.022</td>\n",
       "      <td>al_24st</td>\n",
       "      <td>90.0</td>\n",
       "      <td>10500.0</td>\n",
       "      <td>0.310</td>\n",
       "    </tr>\n",
       "    <tr>\n",
       "      <th>3</th>\n",
       "      <td>0.022</td>\n",
       "      <td>al_24st</td>\n",
       "      <td>0.0</td>\n",
       "      <td>10600.0</td>\n",
       "      <td>0.323</td>\n",
       "    </tr>\n",
       "    <tr>\n",
       "      <th>4</th>\n",
       "      <td>0.022</td>\n",
       "      <td>al_24st</td>\n",
       "      <td>45.0</td>\n",
       "      <td>10500.0</td>\n",
       "      <td>0.331</td>\n",
       "    </tr>\n",
       "    <tr>\n",
       "      <th>5</th>\n",
       "      <td>0.022</td>\n",
       "      <td>al_24st</td>\n",
       "      <td>90.0</td>\n",
       "      <td>10700.0</td>\n",
       "      <td>0.323</td>\n",
       "    </tr>\n",
       "    <tr>\n",
       "      <th>6</th>\n",
       "      <td>0.032</td>\n",
       "      <td>al_24st</td>\n",
       "      <td>0.0</td>\n",
       "      <td>10400.0</td>\n",
       "      <td>0.329</td>\n",
       "    </tr>\n",
       "    <tr>\n",
       "      <th>7</th>\n",
       "      <td>0.032</td>\n",
       "      <td>al_24st</td>\n",
       "      <td>45.0</td>\n",
       "      <td>10400.0</td>\n",
       "      <td>0.318</td>\n",
       "    </tr>\n",
       "    <tr>\n",
       "      <th>8</th>\n",
       "      <td>0.032</td>\n",
       "      <td>al_24st</td>\n",
       "      <td>90.0</td>\n",
       "      <td>10300.0</td>\n",
       "      <td>0.322</td>\n",
       "    </tr>\n",
       "    <tr>\n",
       "      <th>9</th>\n",
       "      <td>0.032</td>\n",
       "      <td>al_24st</td>\n",
       "      <td>0.0</td>\n",
       "      <td>10300.0</td>\n",
       "      <td>0.319</td>\n",
       "    </tr>\n",
       "    <tr>\n",
       "      <th>10</th>\n",
       "      <td>0.032</td>\n",
       "      <td>al_24st</td>\n",
       "      <td>45.0</td>\n",
       "      <td>10500.0</td>\n",
       "      <td>0.326</td>\n",
       "    </tr>\n",
       "    <tr>\n",
       "      <th>11</th>\n",
       "      <td>0.032</td>\n",
       "      <td>al_24st</td>\n",
       "      <td>90.0</td>\n",
       "      <td>10400.0</td>\n",
       "      <td>0.330</td>\n",
       "    </tr>\n",
       "    <tr>\n",
       "      <th>12</th>\n",
       "      <td>0.064</td>\n",
       "      <td>al_24st</td>\n",
       "      <td>0.0</td>\n",
       "      <td>10500.0</td>\n",
       "      <td>0.323</td>\n",
       "    </tr>\n",
       "    <tr>\n",
       "      <th>13</th>\n",
       "      <td>0.064</td>\n",
       "      <td>al_24st</td>\n",
       "      <td>45.0</td>\n",
       "      <td>10400.0</td>\n",
       "      <td>0.331</td>\n",
       "    </tr>\n",
       "    <tr>\n",
       "      <th>14</th>\n",
       "      <td>0.064</td>\n",
       "      <td>al_24st</td>\n",
       "      <td>90.0</td>\n",
       "      <td>10400.0</td>\n",
       "      <td>0.327</td>\n",
       "    </tr>\n",
       "    <tr>\n",
       "      <th>15</th>\n",
       "      <td>0.064</td>\n",
       "      <td>al_24st</td>\n",
       "      <td>0.0</td>\n",
       "      <td>10700.0</td>\n",
       "      <td>0.328</td>\n",
       "    </tr>\n",
       "    <tr>\n",
       "      <th>16</th>\n",
       "      <td>0.064</td>\n",
       "      <td>al_24st</td>\n",
       "      <td>45.0</td>\n",
       "      <td>10500.0</td>\n",
       "      <td>0.328</td>\n",
       "    </tr>\n",
       "    <tr>\n",
       "      <th>17</th>\n",
       "      <td>0.064</td>\n",
       "      <td>al_24st</td>\n",
       "      <td>90.0</td>\n",
       "      <td>10500.0</td>\n",
       "      <td>0.320</td>\n",
       "    </tr>\n",
       "    <tr>\n",
       "      <th>18</th>\n",
       "      <td>0.081</td>\n",
       "      <td>al_24st</td>\n",
       "      <td>0.0</td>\n",
       "      <td>10000.0</td>\n",
       "      <td>0.315</td>\n",
       "    </tr>\n",
       "    <tr>\n",
       "      <th>19</th>\n",
       "      <td>0.081</td>\n",
       "      <td>al_24st</td>\n",
       "      <td>45.0</td>\n",
       "      <td>10000.0</td>\n",
       "      <td>0.320</td>\n",
       "    </tr>\n",
       "    <tr>\n",
       "      <th>20</th>\n",
       "      <td>0.081</td>\n",
       "      <td>al_24st</td>\n",
       "      <td>90.0</td>\n",
       "      <td>9900.0</td>\n",
       "      <td>0.314</td>\n",
       "    </tr>\n",
       "    <tr>\n",
       "      <th>21</th>\n",
       "      <td>0.081</td>\n",
       "      <td>al_24st</td>\n",
       "      <td>0.0</td>\n",
       "      <td>10100.0</td>\n",
       "      <td>0.312</td>\n",
       "    </tr>\n",
       "    <tr>\n",
       "      <th>22</th>\n",
       "      <td>0.081</td>\n",
       "      <td>al_24st</td>\n",
       "      <td>45.0</td>\n",
       "      <td>9900.0</td>\n",
       "      <td>0.312</td>\n",
       "    </tr>\n",
       "    <tr>\n",
       "      <th>23</th>\n",
       "      <td>0.081</td>\n",
       "      <td>al_24st</td>\n",
       "      <td>90.0</td>\n",
       "      <td>10000.0</td>\n",
       "      <td>0.316</td>\n",
       "    </tr>\n",
       "    <tr>\n",
       "      <th>24</th>\n",
       "      <td>0.081</td>\n",
       "      <td>al_24st</td>\n",
       "      <td>0.0</td>\n",
       "      <td>10000.0</td>\n",
       "      <td>0.311</td>\n",
       "    </tr>\n",
       "    <tr>\n",
       "      <th>25</th>\n",
       "      <td>0.081</td>\n",
       "      <td>al_24st</td>\n",
       "      <td>90.0</td>\n",
       "      <td>9900.0</td>\n",
       "      <td>0.314</td>\n",
       "    </tr>\n",
       "  </tbody>\n",
       "</table>\n",
       "</div>"
      ],
      "text/plain": [
       "    thick     alloy  angle        E     mu\n",
       "0   0.022   al_24st    0.0  10600.0  0.321\n",
       "1   0.022   al_24st   45.0  10700.0  0.329\n",
       "2   0.022   al_24st   90.0  10500.0  0.310\n",
       "3   0.022   al_24st    0.0  10600.0  0.323\n",
       "4   0.022   al_24st   45.0  10500.0  0.331\n",
       "5   0.022   al_24st   90.0  10700.0  0.323\n",
       "6   0.032   al_24st    0.0  10400.0  0.329\n",
       "7   0.032   al_24st   45.0  10400.0  0.318\n",
       "8   0.032   al_24st   90.0  10300.0  0.322\n",
       "9   0.032   al_24st    0.0  10300.0  0.319\n",
       "10  0.032   al_24st   45.0  10500.0  0.326\n",
       "11  0.032   al_24st   90.0  10400.0  0.330\n",
       "12  0.064   al_24st    0.0  10500.0  0.323\n",
       "13  0.064   al_24st   45.0  10400.0  0.331\n",
       "14  0.064   al_24st   90.0  10400.0  0.327\n",
       "15  0.064   al_24st    0.0  10700.0  0.328\n",
       "16  0.064   al_24st   45.0  10500.0  0.328\n",
       "17  0.064   al_24st   90.0  10500.0  0.320\n",
       "18  0.081   al_24st    0.0  10000.0  0.315\n",
       "19  0.081   al_24st   45.0  10000.0  0.320\n",
       "20  0.081   al_24st   90.0   9900.0  0.314\n",
       "21  0.081   al_24st    0.0  10100.0  0.312\n",
       "22  0.081   al_24st   45.0   9900.0  0.312\n",
       "23  0.081   al_24st   90.0  10000.0  0.316\n",
       "24  0.081   al_24st    0.0  10000.0  0.311\n",
       "25  0.081   al_24st   90.0   9900.0  0.314"
      ]
     },
     "execution_count": 3,
     "metadata": {},
     "output_type": "execute_result"
    }
   ],
   "source": [
    "## TASK: Tidy df_stang_wide\n",
    "df_stang = (\n",
    "    df_stang_wide\n",
    "# task-begin\n",
    "    ## WRITE YOUR CODE HERE\n",
    "# task-end \n",
    "# solution-begin\n",
    "    >> gr.tf_pivot_longer(\n",
    "        columns=[\"E_00\", \"mu_00\", \"E_45\", \"mu_45\", \"E_90\", \"mu_90\"],\n",
    "        names_to=[\".value\", \"angle\"],\n",
    "        names_sep=\"_\"\n",
    "    )\n",
    "    >> gr.tf_filter(DF.E > 0)\n",
    "    >> gr.tf_mutate(\n",
    "        angle=gr.as_float(DF.angle)\n",
    "    )\n",
    "# solution-end\n",
    ")\n",
    "\n",
    "df_stang"
   ]
  },
  {
   "cell_type": "markdown",
   "id": "a77cbc2f-7f8c-4d12-b905-248f619257b0",
   "metadata": {},
   "source": [
    "Use the following tests to check your work.\n"
   ]
  },
  {
   "cell_type": "code",
   "execution_count": 4,
   "id": "51f5f84f-2f83-4e77-8c22-1f0e3505c09a",
   "metadata": {},
   "outputs": [],
   "source": [
    "# Correct columns\n",
    "assert \\\n",
    "    set(df_stang.columns) ==  set([\"thick\", \"alloy\", \"angle\", \"E\", \"mu\"]), \\\n",
    "    \"Incorrect columns in df_stang\"\n",
    "\n",
    "# Dimensions\n",
    "assert \\\n",
    "    (df_stang.shape[0] <= 27), \\\n",
    "    \"Too many rows; did you pivot the data?\"\n",
    "assert \\\n",
    "    (df_stang.shape[0] <= 26), \\\n",
    "    \"Too many rows; did you filter the invalid values?\"\n",
    "assert \\\n",
    "    (df_stang.shape[0] == 26), \\\n",
    "    \"Too few rows; did you filter *only* invalid values?\"\n",
    "    \n",
    "# Types\n",
    "assert \\\n",
    "    (is_numeric_dtype(df_stang[\"angle\"])), \\\n",
    "    \"angle columns is not numeric; make sure to convert this column\"\n"
   ]
  },
  {
   "cell_type": "markdown",
   "id": "55f82da9-fc94-4d6f-9411-bacb5a076be0",
   "metadata": {},
   "source": [
    "## EDA\n"
   ]
  },
  {
   "cell_type": "markdown",
   "id": "8e4e6a1b-3d4a-454f-b8fa-fe8a6f2348f8",
   "metadata": {},
   "source": [
    "### __q2__ EDA without visualization\n",
    "\n",
    "Perform a basic EDA on the aluminum data *without visualization*. Use your analysis to answer the questions under *observations* below. \n"
   ]
  },
  {
   "cell_type": "code",
   "execution_count": 5,
   "id": "2b12f450-6619-4482-a473-64e0fac12979",
   "metadata": {},
   "outputs": [
    {
     "name": "stdout",
     "output_type": "stream",
     "text": [
      "   thick     alloy  angle        E     mu\n",
      "0  0.022   al_24st    0.0  10600.0  0.321\n",
      "1  0.022   al_24st   45.0  10700.0  0.329\n",
      "2  0.022   al_24st   90.0  10500.0  0.310\n",
      "3  0.022   al_24st    0.0  10600.0  0.323\n",
      "4  0.022   al_24st   45.0  10500.0  0.331\n",
      "5  0.022   al_24st   90.0  10700.0  0.323\n",
      "6  0.032   al_24st    0.0  10400.0  0.329\n",
      "7  0.032   al_24st   45.0  10400.0  0.318\n",
      "8  0.032   al_24st   90.0  10300.0  0.322\n",
      "9  0.032   al_24st    0.0  10300.0  0.319\n",
      "           thick      angle             E         mu\n",
      "count  26.000000  26.000000     26.000000  26.000000\n",
      "mean    0.052154  45.000000  10334.615385   0.321231\n",
      "std     0.024812  38.183766    268.242141   0.006743\n",
      "min     0.022000   0.000000   9900.000000   0.310000\n",
      "25%     0.032000   0.000000  10025.000000   0.315250\n",
      "50%     0.064000  45.000000  10400.000000   0.321500\n",
      "75%     0.081000  90.000000  10500.000000   0.327750\n",
      "max     0.081000  90.000000  10700.000000   0.331000\n"
     ]
    }
   ],
   "source": [
    "## TASK: Perform EDA *without visualization* here\n",
    "# task-begin\n",
    "## Top-level facts?\n",
    "# task-end\n",
    "# solution-begin\n",
    "# Head\n",
    "print(\n",
    "    df_stang\n",
    "    >> gr.tf_head(10)\n",
    ")\n",
    "\n",
    "# Describe\n",
    "print(\n",
    "    df_stang\n",
    "    >> gr.tf_describe()\n",
    ")\n",
    "# solution-end"
   ]
  },
  {
   "cell_type": "code",
   "execution_count": 6,
   "id": "8cb1b715-9932-4976-8d0d-bcf360b4acdf",
   "metadata": {},
   "outputs": [
    {
     "name": "stdout",
     "output_type": "stream",
     "text": [
      "Distinct alloys\n",
      "   thick     alloy  angle        E     mu\n",
      "0  0.022   al_24st    0.0  10600.0  0.321\n"
     ]
    }
   ],
   "source": [
    "# task-begin\n",
    "## Distinct alloys?\n",
    "# task-end\n",
    "# solution-begin\n",
    "print(\"Distinct alloys\")\n",
    "print(\n",
    "    df_stang\n",
    "    >> gr.tf_distinct(\"alloy\")\n",
    ")\n",
    "# solution-end"
   ]
  },
  {
   "cell_type": "code",
   "execution_count": 7,
   "id": "c83ad116-1465-4381-807b-17dd54287093",
   "metadata": {},
   "outputs": [
    {
     "name": "stdout",
     "output_type": "stream",
     "text": [
      "Distinct angles\n",
      "   thick     alloy  angle        E     mu\n",
      "0  0.022   al_24st    0.0  10600.0  0.321\n",
      "1  0.022   al_24st   45.0  10700.0  0.329\n",
      "2  0.022   al_24st   90.0  10500.0  0.310\n"
     ]
    }
   ],
   "source": [
    "# task-begin\n",
    "## Distinct angles?\n",
    "# task-end\n",
    "# solution-begin\n",
    "print(\"Distinct angles\")\n",
    "print(\n",
    "    df_stang\n",
    "    >> gr.tf_distinct(\"angle\")\n",
    ")\n",
    "# solution-end"
   ]
  },
  {
   "cell_type": "code",
   "execution_count": 8,
   "id": "b8b63da5-20c6-4418-a574-d5dab4e66c43",
   "metadata": {},
   "outputs": [
    {
     "name": "stdout",
     "output_type": "stream",
     "text": [
      "Distinct thicknesses\n",
      "   thick  n\n",
      "0  0.022  6\n",
      "1  0.032  6\n",
      "2  0.064  6\n",
      "3  0.081  8\n"
     ]
    }
   ],
   "source": [
    "# task-begin\n",
    "## Distinct thicknesses?\n",
    "# task-end\n",
    "# solution-begin\n",
    "print(\"Distinct thicknesses\")\n",
    "print(\n",
    "    df_stang\n",
    "    >> gr.tf_group_by(\"thick\")\n",
    "    >> gr.tf_summarize(n=gr.n(DF.index))\n",
    ")\n",
    "# solution-end"
   ]
  },
  {
   "cell_type": "markdown",
   "id": "db0f7847-2893-4458-90b5-58abaf3dee14",
   "metadata": {},
   "source": [
    "**Observations**:\n",
    "\n",
    "<!-- task-begin -->\n",
    "- Do you see identical values for the material properties?\n",
    "  - (Your response here)\n",
    "- How many aluminum alloys are in this dataset? How do you know?\n",
    "  - (Your response here)\n",
    "- What angles were tested?\n",
    "  - (Your response here)\n",
    "- What thicknesses were tested?\n",
    "  - (Your response here)\n",
    "<!-- task-end -->\n",
    "<!-- solution-begin -->\n",
    "- Do you see identical values for the material properties?\n",
    "  - No; we see a variety of values for `E` and `nu`.\n",
    "- How many aluminum alloys are in this dataset? How do you know?\n",
    "  - Just one alloy: al_24st. I know because I pulled the column and used `unique()`\n",
    "- What angles were tested?\n",
    "  - Angles: 0, 45, 90 (degrees)\n",
    "- What thicknesses were tested?\n",
    "  - Thicknesses: 0.022, 0.032, 0.064, 0.081 (in)\n",
    "<!-- solution-end -->\n"
   ]
  },
  {
   "cell_type": "markdown",
   "id": "3be37e87-cee1-4e2e-b5c1-f1b2e62165dc",
   "metadata": {},
   "source": [
    "### __q3__ Induced or real variability?\n",
    "\n",
    "The variability we see in the material properties `E, mu` could be induced, real, or some mix of the two. Let's read a bit from the original paper to see what the original investigators thought about their data. Read the following passage, and answer the questions under *observations* below.\n",
    "\n",
    "![Stang passage](./images/c03-stang-variability.png)\n"
   ]
  },
  {
   "cell_type": "markdown",
   "id": "351ede1c-3be7-43bb-98c3-49cb16a33b5f",
   "metadata": {},
   "source": [
    "*Observations*\n",
    "\n",
    "<!-- task-begin -->\n",
    "- Based on what the authors wrote, do they believe that the observed variability is *purely* induced?\n",
    "  - (Your response here)\n",
    "- Is there likely to be real variability in the observed material properties?\n",
    "  - (Your response here)\n",
    "- Try doing a websearch for `\"elasticity of aluminum\"`; you are likely to find results that quote a single value for `E`. What does your previous observation tell us about the limitations of this \"single number\" view of material properties?\n",
    "<!-- task-end -->\n",
    "\n",
    "<!-- solution-begin -->\n",
    "- Based on what the authors wrote, do they believe that the observed variability is *purely* induced?\n",
    "  - No, the authors clearly state that there is \"inherent\" (real) variability \"in the material itself.\"\n",
    "- Is there likely to be real variability in the observed material properties?\n",
    "  - Most likely yes; the original authors believe that there is real variability in the observed properties.\n",
    "- Try doing a websearch for `\"elasticity of aluminum\"`; you are likely to find results that quote a single value for `E`. What does your previous observation tell us about the limitations of this \"single number\" view of material properties?\n",
    "  - Since there can be real variability in material properties, a \"single number\" view ignores this variability.\n",
    "<!-- solution-end -->\n"
   ]
  },
  {
   "cell_type": "markdown",
   "id": "d4003ff7-d90a-4f29-80f7-7a899a569052",
   "metadata": {},
   "source": [
    "## Assess a Claim\n",
    "\n",
    "We can use a combination of visualization tools and critical thinking to do useful work: Next you'll \n"
   ]
  },
  {
   "cell_type": "markdown",
   "id": "5ce9f783-67cb-4af9-ae29-057527c3340f",
   "metadata": {},
   "source": [
    "### __q4__ Compare evidence against a claim\n",
    "\n",
    "Consider the following definition:\n",
    "\n",
    "> \"A material's property (or material property) is an intensive property of some material, i.e. a physical property that does not depend on the amount of the material.\"[2]\n",
    "\n",
    "Note that the \"amount of material\" would vary with the thickness of a tested plate. Does the following graph support or contradict the following claim?\n",
    "\n",
    "> Claim: Elasticity `E` is an intensive material property.\n",
    "\n",
    "Inspect the graph below, and answer the questions under *observations* below.\n"
   ]
  },
  {
   "cell_type": "code",
   "execution_count": 17,
   "id": "c30ef7a5-e923-4b9d-9408-97bcbbca8795",
   "metadata": {},
   "outputs": [
    {
     "data": {
      "image/png": "[encoded data removed]",
      "text/plain": [
       "<Figure size 640x480 with 1 Axes>"
      ]
     },
     "metadata": {
      "needs_background": "light"
     },
     "output_type": "display_data"
    },
    {
     "data": {
      "text/plain": [
       "<ggplot: (8790448604185)>"
      ]
     },
     "execution_count": 17,
     "metadata": {},
     "output_type": "execute_result"
    }
   ],
   "source": [
    "# NOTE: No need to edit; run and inspect\n",
    "(\n",
    "    df_stang\n",
    "    >> gr.ggplot(gr.aes(\"E\", \"mu\", color=\"factor(thick)\"))\n",
    "    + gr.geom_point(size=4)\n",
    "    \n",
    "    + gr.scale_color_discrete(name=\"Thickness (in)\")\n",
    "    + gr.theme_minimal()\n",
    "    + gr.labs(\n",
    "        x=\"Elasticity (ksi)\",\n",
    "        y=\"Poisson's Ratio (-)\",\n",
    "    )\n",
    ")"
   ]
  },
  {
   "cell_type": "markdown",
   "id": "c67e8896-1409-4177-8f1c-40907b1095f8",
   "metadata": {},
   "source": [
    "*Observations*\n",
    "\n",
    "<!-- task-begin -->\n",
    "- Does this graph support or contradict the claim above?\n",
    "  - (Your response here)\n",
    "- Is the evidence conclusive?\n",
    "  - (Your response here)\n",
    "<!-- task-end -->\n",
    "\n",
    "<!-- solution-begin -->\n",
    "- The graph contradicts the claim; the elasticity of the alloy is demonstrably smaller for the thickest plates.\n",
    "- The evidence is *not* conclusive; it is possible that other factors could account for this discrepancy. For instance, the article notes (Method a-2, Sec. 2(a)) that the elasticity of the 0.081in plates was measured using a different method, compared to the other plates. Thus calibration issues could account for an offset in values.\n",
    "<!-- solution-end -->\n"
   ]
  },
  {
   "cell_type": "markdown",
   "id": "142816e1-22bc-45d8-81fe-278dc4fe6a54",
   "metadata": {},
   "source": [
    "### __q5__ Check the data collection methods\n",
    "\n",
    "Read the following section from the original paper, and answer the questions below.\n",
    "\n",
    "![Stang image](./images/c03-stang-measurements.png)\n"
   ]
  },
  {
   "cell_type": "markdown",
   "id": "478a49d9-1bff-4e7e-8d31-ad43b3491c91",
   "metadata": {},
   "source": [
    "*Observations*\n",
    "\n",
    "<!-- task-begin -->\n",
    "- In __q3__ we saw variation in the material properties `E, mu` with thickness. One possible explanation for that variation is that material properties can vary with thickness---hence, they are not intensive properties. What alternative explanation does this section from the paper suggest?\n",
    "  - (Your response here)\n",
    "<!-- task-end -->\n",
    "\n",
    "<!-- solution-begin -->\n",
    "- The article notes (Method a-2, Sec. 2(a)) that the elasticity of the 0.081in plates was measured using a different method, compared to the other (thinner) plates. Thus differences in measurement calibration could account for an offset in values.\n",
    "<!-- solution-end -->"
   ]
  },
  {
   "cell_type": "markdown",
   "id": "573fe397-ee13-4337-b1f7-33addfb1ee8a",
   "metadata": {},
   "source": [
    "## Study Consequences With a Model\n"
   ]
  },
  {
   "cell_type": "markdown",
   "id": "9006a2a0-4505-471b-85a4-b39735dcc675",
   "metadata": {},
   "source": [
    "### __q6__ Implement a model\n",
    "\n",
    "( [Plate buckling](https://en.wikipedia.org/wiki/Buckling#Plate_buckling). )\n",
    "\n",
    "| Variable | Meaning | Units |\n",
    "|----------|---------|-------|\n",
    "| `E`      | Elasticity | kips/in^2 |\n",
    "| `mu`     | Poisson's ratio | - |\n",
    "| `a`      | Length  | in    |\n",
    "| `b`      | Width   | in    |\n",
    "| `t`      | Thickness | in    |\n",
    "| `m`      | Wavenumber | -    |\n",
    "\n",
    "$$\\sigma_{cr} = k_{cr} \\frac{\\pi^2 E}{12 (1 - \\mu^2)} \\left(\\frac{t}{b}\\right)^2$$\n",
    "\n",
    "where\n",
    "\n",
    "$$k_{cr} = \\left(\\frac{mb}{a} + \\frac{a}{mb}\\right)^2$$\n",
    "\n"
   ]
  },
  {
   "cell_type": "code",
   "execution_count": 12,
   "id": "819726d9-3594-4fde-a15c-f44827632a34",
   "metadata": {},
   "outputs": [
    {
     "data": {
      "text/plain": [
       "model: Plate critical buckling stress\n",
       "\n",
       "  inputs:\n",
       "    var_det:\n",
       "      E: (unbounded)\n",
       "      t: (unbounded)\n",
       "      mu: (unbounded)\n",
       "      b: (unbounded)\n",
       "      m: (unbounded)\n",
       "      a: (unbounded)\n",
       "\n",
       "    var_rand:\n",
       "\n",
       "    copula:\n",
       "      None\n",
       "\n",
       "  functions:\n",
       "      f0: ['a', 'b', 'm'] -> ['k_cr']\n",
       "      f1: ['k_cr', 'E', 'mu', 't', 'b'] -> ['sigma_cr']"
      ]
     },
     "execution_count": 12,
     "metadata": {},
     "output_type": "execute_result"
    }
   ],
   "source": [
    "## NOTE: This scaffolding will get you started\n",
    "md_plate = (\n",
    "    gr.Model(\"Plate critical buckling stress\")\n",
    "    >> gr.cp_vec_function(\n",
    "        fun=lambda df: gr.df_make(\n",
    "            k_cr=(df.m * df.b / df.a + df.a / df.m / df.b)**2\n",
    "        ),\n",
    "        var=[\"a\", \"b\", \"m\"],\n",
    "        out=[\"k_cr\"],\n",
    "    )\n",
    "# task-begin\n",
    "    ## TASK: Complete the model to provide the sigma_cr output\n",
    "# task-end\n",
    "# solution-begin\n",
    "    >> gr.cp_vec_function(\n",
    "        fun=lambda df: gr.df_make(\n",
    "#             sigma_cr=df.k_cr * (3.14**3/12) * df.E / (1 - df.mu**2)\n",
    "            sigma_cr=df.k_cr * (3.14**3/12) * df.E*1e3 / (1 - df.mu**2)\n",
    "                    *(df.t / df.b)**2\n",
    "        ),\n",
    "        var=[\"k_cr\", \"E\", \"mu\", \"t\", \"b\"],\n",
    "        out=[\"sigma_cr\"]\n",
    "    )\n",
    "# solution-end\n",
    ")\n",
    "\n",
    "md_plate"
   ]
  },
  {
   "cell_type": "markdown",
   "id": "1bcbb9c9-5e12-4436-a85a-29cc160f65e4",
   "metadata": {},
   "source": [
    "Use the following to check your work.\n"
   ]
  },
  {
   "cell_type": "code",
   "execution_count": 13,
   "id": "99222565-14dd-428b-92d7-0c0b8b4663cd",
   "metadata": {},
   "outputs": [
    {
     "name": "stdout",
     "output_type": "stream",
     "text": [
      "   a  b      t      E    mu  m  k_cr      sigma_cr\n",
      "0  1  1  0.125  10500  0.32  1   4.0  1.886228e+06\n"
     ]
    }
   ],
   "source": [
    "## NOTE: No need to edit, use this to check your work\n",
    "df_plate_test = (\n",
    "    md_plate\n",
    "    >> gr.ev_df(df=gr.df_make(\n",
    "        a=1,\n",
    "        b=1,\n",
    "        t=0.125,\n",
    "        E=10500,\n",
    "        mu=0.32,\n",
    "        m=1,\n",
    "    ))\n",
    ")\n",
    "print(df_plate_test)\n",
    "\n",
    "assert \\\n",
    "    not (abs(df_plate_test.sigma_cr[0] - 1.886228e3) < 1e-3), \\\n",
    "    \"Incorrect sigma_cr; did you remember to convert E from kips to lbf?\"\n",
    "\n",
    "assert \\\n",
    "    not (abs(df_plate_test.sigma_cr[0] - 1.886228e6) < 1e-3), \\\n",
    "    \"Incorrect sigma_cr; double-check your work\"\n"
   ]
  },
  {
   "cell_type": "markdown",
   "id": "7ec09ba0-ed6f-4273-bbf7-4a9a4e444163",
   "metadata": {},
   "source": [
    "### __q7__ Interpret results, part 1\n",
    "\n",
    "The following code sweeps the model over various aspect ratios (length / width) and wavenumbers `m`, and computes the critical buckling stress. It also considers the variability observed in the material properties `E, mu` and reports this as a band about each curve (as the min and max observed).\n",
    "\n",
    "Inspect the plot below, and answer the questions under *observe*.\n"
   ]
  },
  {
   "cell_type": "code",
   "execution_count": 14,
   "id": "92be523b-c43a-4085-a475-67135a2c84e0",
   "metadata": {},
   "outputs": [
    {
     "data": {
      "image/png": "[encoded data removed]",
      "text/plain": [
       "<Figure size 640x480 with 1 Axes>"
      ]
     },
     "metadata": {
      "needs_background": "light"
     },
     "output_type": "display_data"
    },
    {
     "data": {
      "text/plain": [
       "<ggplot: (8790446505725)>"
      ]
     },
     "execution_count": 14,
     "metadata": {},
     "output_type": "execute_result"
    }
   ],
   "source": [
    "## NOTE: No need to edit; run and inspect\n",
    "(\n",
    "    df_stang\n",
    "    >> gr.tf_filter(DF.thick == 0.032)\n",
    "    >> gr.tf_rename(t=\"thick\")\n",
    "    \n",
    "    >> gr.tf_outer(\n",
    "        df_outer=gr.df_make(m=[1, 2, 3])\n",
    "    )\n",
    "    >> gr.tf_outer(\n",
    "        df_outer=gr.df_make(a=np.linspace(6, 48, num=25))\n",
    "    )\n",
    "    >> gr.tf_mutate(b=12)\n",
    "    >> gr.tf_md(md_plate)\n",
    "    \n",
    "    >> gr.tf_group_by(DF.a, DF.m, DF.b)\n",
    "    >> gr.tf_summarize(\n",
    "        sigma_cr_min=gr.colmin(DF.sigma_cr),\n",
    "        sigma_cr_mean=gr.mean(DF.sigma_cr),\n",
    "        sigma_cr_max=gr.colmax(DF.sigma_cr),\n",
    "    )\n",
    "    \n",
    "    >> gr.ggplot(gr.aes(\"a / b\", color=\"factor(m)\"))\n",
    "    + gr.geom_ribbon(\n",
    "        gr.aes(ymin=\"sigma_cr_min\", ymax=\"sigma_cr_max\"),\n",
    "        linetype=\"dashed\",\n",
    "        fill=None,\n",
    "    )\n",
    "    + gr.geom_line(gr.aes(y=\"sigma_cr_mean\"))\n",
    "    \n",
    "    + gr.scale_y_continuous(limits=(500, 2000))\n",
    "    + gr.scale_color_discrete(name=\"Wavenumber\")\n",
    "    + gr.theme_minimal()\n",
    "    + gr.labs(\n",
    "        x=\"Aspect Ratio (-)\",\n",
    "        y=\"Critical Buckling Stress (psi)\"\n",
    "    )\n",
    ")"
   ]
  },
  {
   "cell_type": "markdown",
   "id": "ae34c32b-ff0a-47c4-9795-3a0ab75d9091",
   "metadata": {},
   "source": [
    "*Observe*\n",
    "\n",
    "<!-- task-begin -->\n",
    "- At an aspect ratio of 1, which buckling mode (wavenumber) will be the most concerning?\n",
    "  - (Your response here)\n",
    "- At an aspect ratio of 2, which buckling mode (wavenumber) will be the most concerning?\n",
    "  - (Your response here)\n",
    "- How does the variability in buckling strength due to material properties compare with the variability due to aspect ratio?\n",
    "  - (Your response here)\n",
    "- Would it be necessary to consider the variability of material properties for making decisions about the aspect ratio? Say we were deciding between `AR = 1` and `AR = 1.5`.\n",
    "  - (Your response here)\n",
    "<!-- task-end -->\n",
    "<!-- solution-begin -->\n",
    "- At an aspect ratio of 1, buckling mode 1 (`m = 1`) will be most concerning, as it has the lowest critical buckling stress.\n",
    "- At an aspect ratio of 2, buckling mode 2 (`m = 2`) will be most concerning, as it has the lowest critical buckling stress.\n",
    "- The variability due to material properties is far less than the variability due to aspect ratio, at least scale we're considering (AR from about 1 to 3).\n",
    "- Since the variability due to material property variation is so small, compared to the variability due to `AR`, we would not need to consider the variability of material properties.\n",
    "<!-- solution-end -->\n"
   ]
  },
  {
   "cell_type": "markdown",
   "id": "64cae5c8-0220-4b3f-8e14-dd883583e40b",
   "metadata": {},
   "source": [
    "### __q8__ Interpret results, part 2\n",
    "\n",
    "\n"
   ]
  },
  {
   "cell_type": "code",
   "execution_count": 15,
   "id": "5bcedd2e-88a5-4490-899b-5264bcd3aa15",
   "metadata": {},
   "outputs": [
    {
     "data": {
      "image/png": "[encoded data removed]",
      "text/plain": [
       "<Figure size 640x480 with 1 Axes>"
      ]
     },
     "metadata": {
      "needs_background": "light"
     },
     "output_type": "display_data"
    },
    {
     "data": {
      "text/plain": [
       "<ggplot: (8790446942892)>"
      ]
     },
     "execution_count": 15,
     "metadata": {},
     "output_type": "execute_result"
    }
   ],
   "source": [
    "## NOTE: No need to edit; run and inspect\n",
    "(\n",
    "    df_stang\n",
    "    >> gr.tf_filter(DF.thick == 0.032)\n",
    "    >> gr.tf_drop(\"thick\")\n",
    "    \n",
    "    >> gr.tf_outer(\n",
    "        df_outer=gr.df_make(t=np.linspace(0.031, 0.033, num=25))\n",
    "    )\n",
    "    >> gr.tf_mutate(a=12 * 1.5, b=12, m=1)\n",
    "    >> gr.tf_md(md_plate)\n",
    "    \n",
    "    >> gr.tf_group_by(DF.t)\n",
    "    >> gr.tf_summarize(\n",
    "        sigma_cr_min=gr.colmin(DF.sigma_cr),\n",
    "        sigma_cr_mean=gr.mean(DF.sigma_cr),\n",
    "        sigma_cr_max=gr.colmax(DF.sigma_cr),\n",
    "    )\n",
    "    \n",
    "    >> gr.ggplot(gr.aes(\"t\"))\n",
    "    + gr.geom_hline(yintercept=1000, color=\"grey\", size=1.5)\n",
    "    + gr.geom_line(gr.aes(y=\"sigma_cr_min\"), linetype=\"dashed\")\n",
    "    + gr.geom_line(gr.aes(y=\"sigma_cr_mean\"))\n",
    "    + gr.geom_line(gr.aes(y=\"sigma_cr_max\"), linetype=\"dashed\")\n",
    "    \n",
    "    + gr.theme_minimal()\n",
    "    + gr.labs(\n",
    "        x=\"Plate Thickness (in)\",\n",
    "        y=\"Critical Buckling Stress (psi)\"\n",
    "    )\n",
    ")"
   ]
  },
  {
   "cell_type": "markdown",
   "id": "95151806-f20c-47fd-ad61-5423534dbfce",
   "metadata": {},
   "source": [
    "# References\n",
    "\n",
    "[1] Stang, Greenspan, and Newman, \"Poisson's ratio of some structural alloys for large strains\" (1946) Journal of Research of the National Bureau of Standards, [pdf link](https://nvlpubs.nist.gov/nistpubs/jres/37/jresv37n4p211_A1b.pdf)\n",
    "\n",
    "[2] Wikipedia, *List of material properties*, accessed 2020-06-26, [link](https://en.wikipedia.org/wiki/List_of_materials_properties)\n"
   ]
  }
 ],
 "metadata": {
  "kernelspec": {
   "display_name": "Python 3",
   "language": "python",
   "name": "python3"
  },
  "language_info": {
   "codemirror_mode": {
    "name": "ipython",
    "version": 3
   },
   "file_extension": ".py",
   "mimetype": "text/x-python",
   "name": "python",
   "nbconvert_exporter": "python",
   "pygments_lexer": "ipython3",
   "version": "3.8.8"
  }
 },
 "nbformat": 4,
 "nbformat_minor": 5
}
