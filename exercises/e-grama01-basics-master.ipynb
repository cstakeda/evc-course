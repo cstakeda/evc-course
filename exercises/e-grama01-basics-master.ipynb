{
 "cells": [
  {
   "cell_type": "markdown",
   "id": "eeed4f33-50bd-4df3-82a1-166a0e20cc76",
   "metadata": {},
   "source": [
    "# Grama Basics\n",
    "\n",
    "*Purpose*: \n"
   ]
  },
  {
   "cell_type": "markdown",
   "id": "4882e64a-1a0c-4f3f-88ee-e4c7902c8511",
   "metadata": {},
   "source": [
    "## Setup\n"
   ]
  },
  {
   "cell_type": "code",
   "execution_count": 1,
   "id": "f36e2f49-a8c4-40e9-8463-0e4f665abfe3",
   "metadata": {},
   "outputs": [],
   "source": [
    "import grama as gr\n",
    "DF = gr.Intention()"
   ]
  },
  {
   "cell_type": "markdown",
   "id": "23358d38-8c3c-4624-b077-98d1c47c3da3",
   "metadata": {},
   "source": [
    "# Grama Verbs\n",
    "\n",
    "### TODO\n",
    "\n",
    "![Verb classes](./images/verb-classes.png)\n"
   ]
  },
  {
   "cell_type": "markdown",
   "id": "5c8cd395-6dd6-4a28-b5da-148e97e1b6e4",
   "metadata": {},
   "source": [
    "## Verb Classes\n",
    "\n",
    "### TODO\n",
    "\n",
    "| Class | Prefix | In | Out |\n",
    "|-------|--------|----|-----|\n",
    "| Transform | `tf_*` | `df` | `df` |\n",
    "| Composition | `cp_*` | `md` | `md` |\n",
    "| Fitting | `ft_*` | `df` | `md` |\n",
    "| Evaluation | `ev_*` | `md` | `df` |\n"
   ]
  },
  {
   "cell_type": "markdown",
   "id": "959ccecb-61a9-4d5f-ba7f-7049e2c602f9",
   "metadata": {},
   "source": [
    "# Working with (Grama) models\n"
   ]
  },
  {
   "cell_type": "code",
   "execution_count": 2,
   "id": "f2e3b109-2e3c-458d-9dab-cdb2fd19f8b0",
   "metadata": {},
   "outputs": [],
   "source": [
    "from grama.models import make_cantilever_beam\n",
    "md_beam = make_cantilever_beam()"
   ]
  },
  {
   "cell_type": "markdown",
   "id": "941f644f-1d97-4e72-8755-eaabb99c92fc",
   "metadata": {},
   "source": [
    "## Model summary\n",
    "\n",
    "### TODO\n"
   ]
  },
  {
   "cell_type": "markdown",
   "id": "bc86b186-892b-451c-b187-0db1fe23874e",
   "metadata": {},
   "source": [
    "### __qX__ Inspect a model summary\n",
    "\n",
    "Printing the model gives a high-level summary of the model. Run the code below, and answer the questions under *observations* below.\n"
   ]
  },
  {
   "cell_type": "code",
   "execution_count": 3,
   "id": "2f514786-4609-4e68-a43e-f7599d7e054d",
   "metadata": {},
   "outputs": [
    {
     "data": {
      "text/plain": [
       "model: Cantilever Beam\n",
       "\n",
       "  inputs:\n",
       "    var_det:\n",
       "      w: [2, 4]\n",
       "      t: [2, 4]\n",
       "\n",
       "    var_rand:\n",
       "      H: (+1) norm, {'loc': 500.0, 'scale': 100.0}\n",
       "      V: (+1) norm, {'loc': 1000.0, 'scale': 100.0}\n",
       "      E: (+0) norm, {'loc': 29000000.0, 'scale': 1450000.0}\n",
       "      Y: (-1) norm, {'loc': 40000.0, 'scale': 2000.0}\n",
       "\n",
       "    copula:\n",
       "      Independence copula\n",
       "\n",
       "  functions:\n",
       "      cross-sectional area: ['w', 't'] -> ['c_area']\n",
       "      limit state: stress: ['w', 't', 'H', 'V', 'E', 'Y'] -> ['g_stress']\n",
       "      limit state: displacement: ['w', 't', 'H', 'V', 'E', 'Y'] -> ['g_disp']"
      ]
     },
     "execution_count": 3,
     "metadata": {},
     "output_type": "execute_result"
    }
   ],
   "source": [
    "# TASK: No need to edit; run and inspect\n",
    "md_beam"
   ]
  },
  {
   "cell_type": "markdown",
   "id": "a50b17c2-aa59-4574-8647-ed43e6a8963c",
   "metadata": {},
   "source": [
    "*Observations*\n",
    "\n",
    "<!-- task-begin -->\n",
    "- What variables `var` does the model have?\n",
    "  - (Your response here)\n",
    "- Which variables are deterministic `det`?\n",
    "  - (Your response here)\n",
    "- Which variables are random `rand`?\n",
    "  - (Your response here)\n",
    "- What functions does the model have?\n",
    "  - (Your response here)\n",
    "- What outputs do those functions provide?\n",
    "  - (Your response here)\n",
    "<!-- task-end -->\n",
    "<!-- solution-begin -->\n",
    "- What variables `var` does the model have?\n",
    "  - t, w, H, V, E, Y\n",
    "- Which variables are deterministic `det`?\n",
    "  - t, w\n",
    "- Which variables are random `rand`?\n",
    "  - H, V, E, Y\n",
    "- What functions does the model have?\n",
    "  - cross-sectional area, limit state: stress, limit state: displacement\n",
    "- What outputs do those functions provide?\n",
    "  - c_area, g_stress, g_disp\n",
    "<!-- solution-end -->"
   ]
  },
  {
   "cell_type": "markdown",
   "id": "75965ff7-c79b-4aca-aec8-aa24a7ee8f63",
   "metadata": {},
   "source": [
    "## Importance of context\n",
    "\n",
    "### TODO\n",
    "\n",
    "| Symb. | I/O | Meaning | Units |\n",
    "|-------|-----|---------|-------|\n",
    "| `t`   | Input | Beam cross-section height | in |\n",
    "| `w`   | Input | Beam cross-section width  | in |\n",
    "| `H`   | Input | Tip horizontal force      | lbf |\n",
    "| `V`   | Input | Tip vertical force        | lbf |\n",
    "| `E`   | Input | Elasticity                | psi |\n",
    "| `Y`   | Input | Yield strength            | psi |\n",
    "|-------|------|---------------------------|-----|\n",
    "| `c_area` | Output | Beam cross-section area | in^2 |\n",
    "| `g_stress` | Output | Stress failure criterion | (-) |\n",
    "| `g_disp` | Output | Displacement failure criterion | in |\n",
    "\n"
   ]
  },
  {
   "cell_type": "markdown",
   "id": "83001e48-3b01-47b2-9885-383da96094f6",
   "metadata": {},
   "source": [
    "## Generate data from a model\n",
    "\n",
    "### TODO\n"
   ]
  },
  {
   "cell_type": "markdown",
   "id": "c88ec5a4-3659-4522-aaa7-2b9f5ee62753",
   "metadata": {},
   "source": [
    "### __qX__ (Sinews)\n"
   ]
  },
  {
   "cell_type": "code",
   "execution_count": 5,
   "id": "cf5ddcae-8122-4c17-8534-acf749ef5a59",
   "metadata": {},
   "outputs": [
    {
     "data": {
      "text/html": [
       "<div>\n",
       "<style scoped>\n",
       "    .dataframe tbody tr th:only-of-type {\n",
       "        vertical-align: middle;\n",
       "    }\n",
       "\n",
       "    .dataframe tbody tr th {\n",
       "        vertical-align: top;\n",
       "    }\n",
       "\n",
       "    .dataframe thead th {\n",
       "        text-align: right;\n",
       "    }\n",
       "</style>\n",
       "<table border=\"1\" class=\"dataframe\">\n",
       "  <thead>\n",
       "    <tr style=\"text-align: right;\">\n",
       "      <th></th>\n",
       "      <th>Y</th>\n",
       "      <th>H</th>\n",
       "      <th>V</th>\n",
       "      <th>E</th>\n",
       "      <th>sweep_var</th>\n",
       "      <th>sweep_ind</th>\n",
       "      <th>w</th>\n",
       "      <th>t</th>\n",
       "      <th>g_stress</th>\n",
       "      <th>c_area</th>\n",
       "      <th>g_disp</th>\n",
       "    </tr>\n",
       "  </thead>\n",
       "  <tbody>\n",
       "    <tr>\n",
       "      <th>0</th>\n",
       "      <td>37940.417892</td>\n",
       "      <td>267.365213</td>\n",
       "      <td>1063.529507</td>\n",
       "      <td>2.922759e+07</td>\n",
       "      <td>H</td>\n",
       "      <td>0</td>\n",
       "      <td>3.0</td>\n",
       "      <td>3.0</td>\n",
       "      <td>0.209124</td>\n",
       "      <td>9.0</td>\n",
       "      <td>0.400656</td>\n",
       "    </tr>\n",
       "    <tr>\n",
       "      <th>1</th>\n",
       "      <td>37940.417892</td>\n",
       "      <td>377.935965</td>\n",
       "      <td>1063.529507</td>\n",
       "      <td>2.922759e+07</td>\n",
       "      <td>H</td>\n",
       "      <td>0</td>\n",
       "      <td>3.0</td>\n",
       "      <td>3.0</td>\n",
       "      <td>0.147696</td>\n",
       "      <td>9.0</td>\n",
       "      <td>0.346482</td>\n",
       "    </tr>\n",
       "    <tr>\n",
       "      <th>2</th>\n",
       "      <td>37940.417892</td>\n",
       "      <td>423.529033</td>\n",
       "      <td>1063.529507</td>\n",
       "      <td>2.922759e+07</td>\n",
       "      <td>H</td>\n",
       "      <td>0</td>\n",
       "      <td>3.0</td>\n",
       "      <td>3.0</td>\n",
       "      <td>0.122367</td>\n",
       "      <td>9.0</td>\n",
       "      <td>0.319325</td>\n",
       "    </tr>\n",
       "    <tr>\n",
       "      <th>3</th>\n",
       "      <td>37940.417892</td>\n",
       "      <td>456.927270</td>\n",
       "      <td>1063.529507</td>\n",
       "      <td>2.922759e+07</td>\n",
       "      <td>H</td>\n",
       "      <td>0</td>\n",
       "      <td>3.0</td>\n",
       "      <td>3.0</td>\n",
       "      <td>0.103812</td>\n",
       "      <td>9.0</td>\n",
       "      <td>0.297745</td>\n",
       "    </tr>\n",
       "    <tr>\n",
       "      <th>4</th>\n",
       "      <td>37940.417892</td>\n",
       "      <td>486.028970</td>\n",
       "      <td>1063.529507</td>\n",
       "      <td>2.922759e+07</td>\n",
       "      <td>H</td>\n",
       "      <td>0</td>\n",
       "      <td>3.0</td>\n",
       "      <td>3.0</td>\n",
       "      <td>0.087645</td>\n",
       "      <td>9.0</td>\n",
       "      <td>0.277818</td>\n",
       "    </tr>\n",
       "    <tr>\n",
       "      <th>...</th>\n",
       "      <td>...</td>\n",
       "      <td>...</td>\n",
       "      <td>...</td>\n",
       "      <td>...</td>\n",
       "      <td>...</td>\n",
       "      <td>...</td>\n",
       "      <td>...</td>\n",
       "      <td>...</td>\n",
       "      <td>...</td>\n",
       "      <td>...</td>\n",
       "      <td>...</td>\n",
       "    </tr>\n",
       "    <tr>\n",
       "      <th>115</th>\n",
       "      <td>40279.420598</td>\n",
       "      <td>445.068739</td>\n",
       "      <td>854.533772</td>\n",
       "      <td>2.825705e+07</td>\n",
       "      <td>Y</td>\n",
       "      <td>2</td>\n",
       "      <td>3.0</td>\n",
       "      <td>3.0</td>\n",
       "      <td>0.284984</td>\n",
       "      <td>9.0</td>\n",
       "      <td>0.569680</td>\n",
       "    </tr>\n",
       "    <tr>\n",
       "      <th>116</th>\n",
       "      <td>40861.454599</td>\n",
       "      <td>445.068739</td>\n",
       "      <td>854.533772</td>\n",
       "      <td>2.825705e+07</td>\n",
       "      <td>Y</td>\n",
       "      <td>2</td>\n",
       "      <td>3.0</td>\n",
       "      <td>3.0</td>\n",
       "      <td>0.299535</td>\n",
       "      <td>9.0</td>\n",
       "      <td>0.569680</td>\n",
       "    </tr>\n",
       "    <tr>\n",
       "      <th>117</th>\n",
       "      <td>41529.419348</td>\n",
       "      <td>445.068739</td>\n",
       "      <td>854.533772</td>\n",
       "      <td>2.825705e+07</td>\n",
       "      <td>Y</td>\n",
       "      <td>2</td>\n",
       "      <td>3.0</td>\n",
       "      <td>3.0</td>\n",
       "      <td>0.316234</td>\n",
       "      <td>9.0</td>\n",
       "      <td>0.569680</td>\n",
       "    </tr>\n",
       "    <tr>\n",
       "      <th>118</th>\n",
       "      <td>42441.280698</td>\n",
       "      <td>445.068739</td>\n",
       "      <td>854.533772</td>\n",
       "      <td>2.825705e+07</td>\n",
       "      <td>Y</td>\n",
       "      <td>2</td>\n",
       "      <td>3.0</td>\n",
       "      <td>3.0</td>\n",
       "      <td>0.339031</td>\n",
       "      <td>9.0</td>\n",
       "      <td>0.569680</td>\n",
       "    </tr>\n",
       "    <tr>\n",
       "      <th>119</th>\n",
       "      <td>44652.695748</td>\n",
       "      <td>445.068739</td>\n",
       "      <td>854.533772</td>\n",
       "      <td>2.825705e+07</td>\n",
       "      <td>Y</td>\n",
       "      <td>2</td>\n",
       "      <td>3.0</td>\n",
       "      <td>3.0</td>\n",
       "      <td>0.394316</td>\n",
       "      <td>9.0</td>\n",
       "      <td>0.569680</td>\n",
       "    </tr>\n",
       "  </tbody>\n",
       "</table>\n",
       "<p>120 rows × 11 columns</p>\n",
       "</div>"
      ],
      "text/plain": [
       "                Y           H            V             E sweep_var  sweep_ind  \\\n",
       "0    37940.417892  267.365213  1063.529507  2.922759e+07         H          0   \n",
       "1    37940.417892  377.935965  1063.529507  2.922759e+07         H          0   \n",
       "2    37940.417892  423.529033  1063.529507  2.922759e+07         H          0   \n",
       "3    37940.417892  456.927270  1063.529507  2.922759e+07         H          0   \n",
       "4    37940.417892  486.028970  1063.529507  2.922759e+07         H          0   \n",
       "..            ...         ...          ...           ...       ...        ...   \n",
       "115  40279.420598  445.068739   854.533772  2.825705e+07         Y          2   \n",
       "116  40861.454599  445.068739   854.533772  2.825705e+07         Y          2   \n",
       "117  41529.419348  445.068739   854.533772  2.825705e+07         Y          2   \n",
       "118  42441.280698  445.068739   854.533772  2.825705e+07         Y          2   \n",
       "119  44652.695748  445.068739   854.533772  2.825705e+07         Y          2   \n",
       "\n",
       "       w    t  g_stress  c_area    g_disp  \n",
       "0    3.0  3.0  0.209124     9.0  0.400656  \n",
       "1    3.0  3.0  0.147696     9.0  0.346482  \n",
       "2    3.0  3.0  0.122367     9.0  0.319325  \n",
       "3    3.0  3.0  0.103812     9.0  0.297745  \n",
       "4    3.0  3.0  0.087645     9.0  0.277818  \n",
       "..   ...  ...       ...     ...       ...  \n",
       "115  3.0  3.0  0.284984     9.0  0.569680  \n",
       "116  3.0  3.0  0.299535     9.0  0.569680  \n",
       "117  3.0  3.0  0.316234     9.0  0.569680  \n",
       "118  3.0  3.0  0.339031     9.0  0.569680  \n",
       "119  3.0  3.0  0.394316     9.0  0.569680  \n",
       "\n",
       "[120 rows x 11 columns]"
      ]
     },
     "execution_count": 5,
     "metadata": {},
     "output_type": "execute_result"
    }
   ],
   "source": [
    "# TASK:\n",
    "(\n",
    "    md_beam\n",
    "    >> gr.ev_sinews(df_det=\"nom\")\n",
    ")"
   ]
  },
  {
   "cell_type": "markdown",
   "id": "e28ba2fe-f141-4931-a560-a103adebd823",
   "metadata": {},
   "source": [
    "*Observations*\n",
    "\n",
    "### TODO\n",
    "\n",
    "<!-- task-begin -->\n",
    "- Do any inputs affect the output `c_area`? What about `w` or `t`? How do you know? (Or *not* know?)\n",
    "  - (Your response here)\n",
    "<!-- task-end -->\n",
    "<!-- solution-begin -->\n",
    "<!-- solution-end -->"
   ]
  },
  {
   "cell_type": "markdown",
   "id": "c656c5c4-d1c6-42ba-b1d4-0baa236bc8f0",
   "metadata": {},
   "source": [
    "## Visualize the data from the model\n",
    "\n",
    "### TODO\n"
   ]
  },
  {
   "cell_type": "markdown",
   "id": "70f55bce-cf15-4a47-aeee-72a7f2e74280",
   "metadata": {},
   "source": [
    "### __qX__ (Sinews)\n"
   ]
  },
  {
   "cell_type": "code",
   "execution_count": 6,
   "id": "29849e36-d572-467f-a5f1-23f659f44699",
   "metadata": {},
   "outputs": [
    {
     "name": "stdout",
     "output_type": "stream",
     "text": [
      "Calling plot_sinew_outputs....\n"
     ]
    },
    {
     "data": {
      "image/png": "[encoded data removed]",
      "text/plain": [
       "<Figure size 640x480 with 12 Axes>"
      ]
     },
     "metadata": {
      "needs_background": "light"
     },
     "output_type": "display_data"
    },
    {
     "data": {
      "text/plain": [
       "<ggplot: (8769939529798)>"
      ]
     },
     "execution_count": 6,
     "metadata": {},
     "output_type": "execute_result"
    }
   ],
   "source": [
    "# TASK:\n",
    "(\n",
    "    md_beam\n",
    "    >> gr.ev_sinews(df_det=\"nom\")\n",
    "    >> gr.pt_auto()\n",
    ")"
   ]
  },
  {
   "cell_type": "markdown",
   "id": "ac003282-0034-4d9d-8c50-84c1654fd0d8",
   "metadata": {},
   "source": [
    "*Observations*\n",
    "\n",
    "<!-- task-begin -->\n",
    "- Do any inputs affect the output `c_area`? What about `w` or `t`? How do you know? (Or *not* know?)\n",
    "  - (Your response here)\n",
    "- Does the input `Y` affect the output `g_disp`? How do you know?\n",
    "  - (Your response here)\n",
    "- Does the input `E` increase or decrease `g_disp`?\n",
    "  - (Your response here)\n",
    "<!-- task-end -->\n",
    "<!-- solution-begin -->\n",
    "- Do any inputs affect the output `c_area`? What about `w` or `t`? How do you know? (Or *not* know?)\n",
    "  - None of the inputs visualized have any effect on `c_area`. The inputs `w` and `t` have an effect on `c_area`, but we can't tell based on this plot. I know this because `c_area = w * t` is the cross-sectional area of the beam.\n",
    "- Does the input `Y` affect the output `g_disp`? How do you know?\n",
    "  - The input `Y` has no effect on `g_disp`; it has zero slope.\n",
    "- Does the input `E` increase or decrease `g_disp`?\n",
    "  - The input `E` tends to increase `g_disp`.\n",
    "<!-- solution-end -->"
   ]
  },
  {
   "cell_type": "markdown",
   "id": "daec9161-5253-4f27-803c-38ba3a68f493",
   "metadata": {},
   "source": [
    "# Where this course is going\n",
    "\n",
    "### TODO\n"
   ]
  },
  {
   "cell_type": "markdown",
   "id": "871e15ed-f209-43a7-9928-ec216d78002f",
   "metadata": {},
   "source": [
    "## Building models with grama\n",
    "\n",
    "### TODO\n"
   ]
  },
  {
   "cell_type": "markdown",
   "id": "a84ea0a5-d3b8-449a-b6a2-2ed5b86ae218",
   "metadata": {},
   "source": [
    "## Generating and wrangling data\n",
    "\n",
    "### TODO\n"
   ]
  },
  {
   "cell_type": "markdown",
   "id": "c8b9defd-dfb5-4bf3-a8a3-9d80ce951ed9",
   "metadata": {},
   "source": [
    "## Visualizing data\n",
    "\n",
    "### TODO\n"
   ]
  },
  {
   "cell_type": "markdown",
   "id": "faed2cac-2003-40c5-8ae6-69542dc19ae3",
   "metadata": {},
   "source": [
    "## Statistics\n",
    "\n",
    "### TODO\n"
   ]
  }
 ],
 "metadata": {
  "kernelspec": {
   "display_name": "Python 3",
   "language": "python",
   "name": "python3"
  },
  "language_info": {
   "codemirror_mode": {
    "name": "ipython",
    "version": 3
   },
   "file_extension": ".py",
   "mimetype": "text/x-python",
   "name": "python",
   "nbconvert_exporter": "python",
   "pygments_lexer": "ipython3",
   "version": "3.8.8"
  }
 },
 "nbformat": 4,
 "nbformat_minor": 5
}
