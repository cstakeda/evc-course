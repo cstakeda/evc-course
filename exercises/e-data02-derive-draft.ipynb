{
 "cells": [
  {
   "cell_type": "markdown",
   "id": "498edd8e-29f8-43a1-b187-6dcb86adee10",
   "metadata": {},
   "source": [
    "# Data: Deriving Quantities\n",
    "\n",
    "*Purpose*: Often our data will not tell us *directly* what we want to know; in\n",
    "these cases we need to *derive* new quantities from our data. In this exercise,\n",
    "we'll work with `tf_mutate()` to create new columns by operating on existing\n",
    "variables, and use `tf_group_by()` with `tf_summarize()` to compute aggregate\n",
    "statistics (summaries!) of our data.\n",
    "\n",
    "Aside: The data-summary verbs in grama are heavily inspired by the [dplyr](https://dplyr.tidyverse.org/) package in the R programming langauge. "
   ]
  },
  {
   "cell_type": "markdown",
   "id": "5bc6cde0-a799-4bc0-919f-30f0f3ebd12d",
   "metadata": {},
   "source": [
    "## Setup"
   ]
  },
  {
   "cell_type": "code",
   "execution_count": 22,
   "id": "db3436b2-1a80-4d8a-8344-9652545fca61",
   "metadata": {},
   "outputs": [],
   "source": [
    "import grama as gr\n",
    "import pandas as pd\n",
    "DF = gr.Intention()\n",
    "%matplotlib inline"
   ]
  },
  {
   "cell_type": "markdown",
   "id": "54f55e0e-5e5d-44fb-990a-b6b6f3a9ac07",
   "metadata": {},
   "source": [
    "We'll be using the `diamonds` as seen in `e-vis00-basics` earlier. "
   ]
  },
  {
   "cell_type": "code",
   "execution_count": 23,
   "id": "5bf3a739-5646-4812-ba95-5f967a50f585",
   "metadata": {},
   "outputs": [
    {
     "data": {
      "text/html": [
       "<div>\n",
       "<style scoped>\n",
       "    .dataframe tbody tr th:only-of-type {\n",
       "        vertical-align: middle;\n",
       "    }\n",
       "\n",
       "    .dataframe tbody tr th {\n",
       "        vertical-align: top;\n",
       "    }\n",
       "\n",
       "    .dataframe thead th {\n",
       "        text-align: right;\n",
       "    }\n",
       "</style>\n",
       "<table border=\"1\" class=\"dataframe\">\n",
       "  <thead>\n",
       "    <tr style=\"text-align: right;\">\n",
       "      <th></th>\n",
       "      <th>carat</th>\n",
       "      <th>cut</th>\n",
       "      <th>color</th>\n",
       "      <th>clarity</th>\n",
       "      <th>depth</th>\n",
       "      <th>table</th>\n",
       "      <th>price</th>\n",
       "      <th>x</th>\n",
       "      <th>y</th>\n",
       "      <th>z</th>\n",
       "    </tr>\n",
       "  </thead>\n",
       "  <tbody>\n",
       "    <tr>\n",
       "      <th>0</th>\n",
       "      <td>0.23</td>\n",
       "      <td>Ideal</td>\n",
       "      <td>E</td>\n",
       "      <td>SI2</td>\n",
       "      <td>61.5</td>\n",
       "      <td>55.0</td>\n",
       "      <td>326</td>\n",
       "      <td>3.95</td>\n",
       "      <td>3.98</td>\n",
       "      <td>2.43</td>\n",
       "    </tr>\n",
       "    <tr>\n",
       "      <th>1</th>\n",
       "      <td>0.21</td>\n",
       "      <td>Premium</td>\n",
       "      <td>E</td>\n",
       "      <td>SI1</td>\n",
       "      <td>59.8</td>\n",
       "      <td>61.0</td>\n",
       "      <td>326</td>\n",
       "      <td>3.89</td>\n",
       "      <td>3.84</td>\n",
       "      <td>2.31</td>\n",
       "    </tr>\n",
       "    <tr>\n",
       "      <th>2</th>\n",
       "      <td>0.23</td>\n",
       "      <td>Good</td>\n",
       "      <td>E</td>\n",
       "      <td>VS1</td>\n",
       "      <td>56.9</td>\n",
       "      <td>65.0</td>\n",
       "      <td>327</td>\n",
       "      <td>4.05</td>\n",
       "      <td>4.07</td>\n",
       "      <td>2.31</td>\n",
       "    </tr>\n",
       "    <tr>\n",
       "      <th>3</th>\n",
       "      <td>0.29</td>\n",
       "      <td>Premium</td>\n",
       "      <td>I</td>\n",
       "      <td>VS2</td>\n",
       "      <td>62.4</td>\n",
       "      <td>58.0</td>\n",
       "      <td>334</td>\n",
       "      <td>4.20</td>\n",
       "      <td>4.23</td>\n",
       "      <td>2.63</td>\n",
       "    </tr>\n",
       "    <tr>\n",
       "      <th>4</th>\n",
       "      <td>0.31</td>\n",
       "      <td>Good</td>\n",
       "      <td>J</td>\n",
       "      <td>SI2</td>\n",
       "      <td>63.3</td>\n",
       "      <td>58.0</td>\n",
       "      <td>335</td>\n",
       "      <td>4.34</td>\n",
       "      <td>4.35</td>\n",
       "      <td>2.75</td>\n",
       "    </tr>\n",
       "    <tr>\n",
       "      <th>5</th>\n",
       "      <td>0.24</td>\n",
       "      <td>Very Good</td>\n",
       "      <td>J</td>\n",
       "      <td>VVS2</td>\n",
       "      <td>62.8</td>\n",
       "      <td>57.0</td>\n",
       "      <td>336</td>\n",
       "      <td>3.94</td>\n",
       "      <td>3.96</td>\n",
       "      <td>2.48</td>\n",
       "    </tr>\n",
       "    <tr>\n",
       "      <th>6</th>\n",
       "      <td>0.24</td>\n",
       "      <td>Very Good</td>\n",
       "      <td>I</td>\n",
       "      <td>VVS1</td>\n",
       "      <td>62.3</td>\n",
       "      <td>57.0</td>\n",
       "      <td>336</td>\n",
       "      <td>3.95</td>\n",
       "      <td>3.98</td>\n",
       "      <td>2.47</td>\n",
       "    </tr>\n",
       "    <tr>\n",
       "      <th>7</th>\n",
       "      <td>0.26</td>\n",
       "      <td>Very Good</td>\n",
       "      <td>H</td>\n",
       "      <td>SI1</td>\n",
       "      <td>61.9</td>\n",
       "      <td>55.0</td>\n",
       "      <td>337</td>\n",
       "      <td>4.07</td>\n",
       "      <td>4.11</td>\n",
       "      <td>2.53</td>\n",
       "    </tr>\n",
       "    <tr>\n",
       "      <th>8</th>\n",
       "      <td>0.22</td>\n",
       "      <td>Fair</td>\n",
       "      <td>E</td>\n",
       "      <td>VS2</td>\n",
       "      <td>65.1</td>\n",
       "      <td>61.0</td>\n",
       "      <td>337</td>\n",
       "      <td>3.87</td>\n",
       "      <td>3.78</td>\n",
       "      <td>2.49</td>\n",
       "    </tr>\n",
       "    <tr>\n",
       "      <th>9</th>\n",
       "      <td>0.23</td>\n",
       "      <td>Very Good</td>\n",
       "      <td>H</td>\n",
       "      <td>VS1</td>\n",
       "      <td>59.4</td>\n",
       "      <td>61.0</td>\n",
       "      <td>338</td>\n",
       "      <td>4.00</td>\n",
       "      <td>4.05</td>\n",
       "      <td>2.39</td>\n",
       "    </tr>\n",
       "  </tbody>\n",
       "</table>\n",
       "</div>"
      ],
      "text/plain": [
       "   carat        cut color clarity  depth  table  price     x     y     z\n",
       "0   0.23      Ideal     E     SI2   61.5   55.0    326  3.95  3.98  2.43\n",
       "1   0.21    Premium     E     SI1   59.8   61.0    326  3.89  3.84  2.31\n",
       "2   0.23       Good     E     VS1   56.9   65.0    327  4.05  4.07  2.31\n",
       "3   0.29    Premium     I     VS2   62.4   58.0    334  4.20  4.23  2.63\n",
       "4   0.31       Good     J     SI2   63.3   58.0    335  4.34  4.35  2.75\n",
       "5   0.24  Very Good     J    VVS2   62.8   57.0    336  3.94  3.96  2.48\n",
       "6   0.24  Very Good     I    VVS1   62.3   57.0    336  3.95  3.98  2.47\n",
       "7   0.26  Very Good     H     SI1   61.9   55.0    337  4.07  4.11  2.53\n",
       "8   0.22       Fair     E     VS2   65.1   61.0    337  3.87  3.78  2.49\n",
       "9   0.23  Very Good     H     VS1   59.4   61.0    338  4.00  4.05  2.39"
      ]
     },
     "execution_count": 23,
     "metadata": {},
     "output_type": "execute_result"
    }
   ],
   "source": [
    "from grama.data import df_diamonds\n",
    "df_diamonds.head(10)"
   ]
  },
  {
   "cell_type": "markdown",
   "id": "84d6fe44-47f6-41e9-b32c-a7f5f3c8ca4a",
   "metadata": {
    "tags": []
   },
   "source": [
    "## Summarizing Data Frames"
   ]
  },
  {
   "cell_type": "markdown",
   "id": "408ba5d7-ade7-4eec-bb2f-8905608aca30",
   "metadata": {},
   "source": [
    "The `tf_summarize()` function in [grama](https://py-grama.readthedocs.io/en/latest/source/grama.dfply.html?highlight=tf_summarize#module-grama.dfply.summarize) is used to compute new variables and summary statistics. With `tf_summarize()` you can pass a data frame with arguments that assign the summary statistic's value and column name. Each argument should generate a single summary statistic for the output dataframe. "
   ]
  },
  {
   "cell_type": "markdown",
   "id": "d1bba7ff-d202-474a-9862-7b5f18dbef83",
   "metadata": {},
   "source": [
    "| Type | Functions |\n",
    "| ---- | --------- |\n",
    "| Location | `gr.mean(x), gr.median(x), gr.mean_lo, gr.mean_up, gr.min(x), gr.max(x)` |\n",
    "| Spread | `gr.sd(x), gr.var(x), gr.IQR(x)` |\n",
    "| Position | `gr.first(x), gr.nth(x, n), gr.last(x)` |\n",
    "| Counts | `gr.n_distinct(x), gr.n()` |\n",
    "| Logical | `gr.sum(x != 0), gr.mean(y == 0)` |"
   ]
  },
  {
   "cell_type": "markdown",
   "id": "f38e5f2c-a279-4862-be63-d2710088e966",
   "metadata": {},
   "source": [
    "### __q1__ Use `tf_summarize()` with a logical function\n",
    "\n",
    "Using `summarize()` and a logical summary function, determine the number of rows with `Ideal` type of `cut`. Save this value to a column called `n_ideal`."
   ]
  },
  {
   "cell_type": "code",
   "execution_count": 94,
   "id": "850dce8a-f304-49e9-af51-13840f9981c3",
   "metadata": {},
   "outputs": [
    {
     "data": {
      "text/html": [
       "<div>\n",
       "<style scoped>\n",
       "    .dataframe tbody tr th:only-of-type {\n",
       "        vertical-align: middle;\n",
       "    }\n",
       "\n",
       "    .dataframe tbody tr th {\n",
       "        vertical-align: top;\n",
       "    }\n",
       "\n",
       "    .dataframe thead th {\n",
       "        text-align: right;\n",
       "    }\n",
       "</style>\n",
       "<table border=\"1\" class=\"dataframe\">\n",
       "  <thead>\n",
       "    <tr style=\"text-align: right;\">\n",
       "      <th></th>\n",
       "      <th>n_ideal</th>\n",
       "    </tr>\n",
       "  </thead>\n",
       "  <tbody>\n",
       "    <tr>\n",
       "      <th>0</th>\n",
       "      <td>21551</td>\n",
       "    </tr>\n",
       "  </tbody>\n",
       "</table>\n",
       "</div>"
      ],
      "text/plain": [
       "   n_ideal\n",
       "0    21551"
      ]
     },
     "execution_count": 94,
     "metadata": {},
     "output_type": "execute_result"
    }
   ],
   "source": [
    "# TASK: Determine the number of obsevations with an 'Ideal' diamond 'cut.' Assign this value as 'n_ideal'\n",
    "\n",
    "df_q1 = (\n",
    "    df_diamonds\n",
    "    >> gr.tf_summarize(\n",
    "# solution-start\n",
    "        n_ideal=gr.sum(DF.cut == \"Ideal\")\n",
    "# solution-end\n",
    "    )\n",
    ")\n",
    "\n",
    "assert \\\n",
    "    df_q1[\"n_ideal\"][0]/23==937,\\\n",
    "    \"Sum does not match expected value\"\n",
    "\n",
    "df_q1"
   ]
  },
  {
   "cell_type": "markdown",
   "id": "5d356ff2-b633-4ab5-8f15-0b7c3d4e7a90",
   "metadata": {},
   "source": [
    "## Grouping multiple variables\n",
    "\n",
    "The `tf_group_by()` takes a data frame and then the names of one or more columns in the data frame. It returns a copy of the data frame that has been “grouped” into sets of rows that share identical combinations of values in the specified columns. When passing a grouped data frame into `tf_summarize()` it will calculate your summary statistics ina group-wise manner. \n",
    "\n",
    "**DRAFT NOTE:** Copied directly from the RStudio article"
   ]
  },
  {
   "cell_type": "markdown",
   "id": "9a97b175-9c48-4c33-a24b-6d37a43cfd41",
   "metadata": {},
   "source": [
    "### __q2__ How does `tf_group_by()` change the output to `tf_summarize()`?\n",
    "\n",
    "The `tf_group_by()` modifies how other data-management verbs function. Uncomment the `tf_group_by()` below, and describe how the result changes."
   ]
  },
  {
   "cell_type": "code",
   "execution_count": 126,
   "id": "8d2bd6a1-088d-4d0d-abbf-5be54a7ac99a",
   "metadata": {},
   "outputs": [
    {
     "data": {
      "text/html": [
       "<div>\n",
       "<style scoped>\n",
       "    .dataframe tbody tr th:only-of-type {\n",
       "        vertical-align: middle;\n",
       "    }\n",
       "\n",
       "    .dataframe tbody tr th {\n",
       "        vertical-align: top;\n",
       "    }\n",
       "\n",
       "    .dataframe thead th {\n",
       "        text-align: right;\n",
       "    }\n",
       "</style>\n",
       "<table border=\"1\" class=\"dataframe\">\n",
       "  <thead>\n",
       "    <tr style=\"text-align: right;\">\n",
       "      <th></th>\n",
       "      <th>diamonds_mean</th>\n",
       "    </tr>\n",
       "  </thead>\n",
       "  <tbody>\n",
       "    <tr>\n",
       "      <th>0</th>\n",
       "      <td>3932.799722</td>\n",
       "    </tr>\n",
       "  </tbody>\n",
       "</table>\n",
       "</div>"
      ],
      "text/plain": [
       "   diamonds_mean\n",
       "0    3932.799722"
      ]
     },
     "execution_count": 126,
     "metadata": {},
     "output_type": "execute_result"
    }
   ],
   "source": [
    "#TASK: Uncomment the tf_group_by() below, and describe how the result changes\n",
    "\n",
    "df_q2 = (\n",
    "    df_diamonds\n",
    "#    >> gr.tf_group_by(DF[\"color\"],DF[\"clarity\"])\n",
    "    >> gr.tf_summarize(diamonds_mean=gr.mean(DF[\"price\"]))\n",
    ")\n",
    "\n",
    "df_q2"
   ]
  },
  {
   "cell_type": "markdown",
   "id": "b9161f01-4a14-487a-b2ad-adb5786ed3f2",
   "metadata": {},
   "source": [
    "*Observations*\n",
    "<!-- task-begin -->\n",
    "- Write your observations here!\n",
    "<!-- task-end -->\n",
    "<!-- solution-begin -->\n",
    "- The commented version computes a summary over the entire dataframe\n",
    "- The uncommented version computes summaries over groups of `color` and `clarity`\n",
    "<!-- solution-end -->\n"
   ]
  },
  {
   "cell_type": "markdown",
   "id": "eac689ed-93b2-4c72-901e-9925cfe73a56",
   "metadata": {},
   "source": [
    "## Vectorized Functions"
   ]
  },
  {
   "cell_type": "markdown",
   "id": "cb05dd65-2959-4b76-901d-5807efcce612",
   "metadata": {},
   "source": [
    "| Type | Functions |\n",
    "| ---- | --------- |\n",
    "| Arithmetic ops. | `+, -, *, /, ^` |\n",
    "| Modular arith. | `//, %` |\n",
    "| Logical comp. | `<, <=, >, >=, !=, ==` |\n",
    "| Logarithms | `gr.log(x)` |\n",
    "| Offsets | `gr.lead(x), gr.lag(x)` |\n",
    "| Cumulants | `gr.cumsum(x), gr.cumprod(x), gr.cummin(x), gr.cummax(x), gr.cummean(x)` |\n",
    "| Ranking | `gr.min_rank(x), gr.row_number(x), gr.dense_rank(x), gr.percent_rank(x)` |\n"
   ]
  },
  {
   "cell_type": "markdown",
   "id": "7f93e9b8-66d8-4c51-b484-ff31c2f21fa0",
   "metadata": {},
   "source": [
    "### __q3__ Comment on why the difference is so large."
   ]
  },
  {
   "cell_type": "markdown",
   "id": "c0f19241-a1d5-4977-9e40-df732ec72b70",
   "metadata": {},
   "source": [
    "The `depth` variable is supposedly computed via `depth_computed = 100 * 2 * DF[\"z\"] /\n",
    "(DF[\"x\"] + DF[\"y\"])`. Compute `diff = DF[\"depth\"] - DF[\"depth_computed\"]`: This is a measure of\n",
    "discrepancy between the given and computed depth. Additionally, compute the\n",
    "*coefficient of variation* `cov = sd / mean` for both `depth` and `diff`:\n",
    "This is a dimensionless measure of variation in a variable. Assign the resulting\n",
    "tibble to `df_q3`, and assign the appropriate values to `cov_depth` and\n",
    "`cov_diff`. Comment on the relative values of `cov_depth` and `cov_diff`; why is\n",
    "`cov_diff` so large?\n",
    "\n",
    "*Note*: Confusingly, the documentation for `diamonds` leaves out the factor of `100` in the computation of `depth`. Additionally, by default the `pandas` library will exclude values equal to `NaN` in functions like `gr.mean()` or `gr.sd()`"
   ]
  },
  {
   "cell_type": "code",
   "execution_count": 128,
   "id": "b5c36334-4215-4f5b-a9f1-c9cc96b59eed",
   "metadata": {},
   "outputs": [
    {
     "data": {
      "text/html": [
       "<div>\n",
       "<style scoped>\n",
       "    .dataframe tbody tr th:only-of-type {\n",
       "        vertical-align: middle;\n",
       "    }\n",
       "\n",
       "    .dataframe tbody tr th {\n",
       "        vertical-align: top;\n",
       "    }\n",
       "\n",
       "    .dataframe thead th {\n",
       "        text-align: right;\n",
       "    }\n",
       "</style>\n",
       "<table border=\"1\" class=\"dataframe\">\n",
       "  <thead>\n",
       "    <tr style=\"text-align: right;\">\n",
       "      <th></th>\n",
       "      <th>depth_mean</th>\n",
       "      <th>depth_sd</th>\n",
       "      <th>cov_depth</th>\n",
       "      <th>diff_mean</th>\n",
       "      <th>diff_sd</th>\n",
       "      <th>cov_diff</th>\n",
       "      <th>c_diff</th>\n",
       "    </tr>\n",
       "  </thead>\n",
       "  <tbody>\n",
       "    <tr>\n",
       "      <th>0</th>\n",
       "      <td>61.749405</td>\n",
       "      <td>1.432621</td>\n",
       "      <td>0.023201</td>\n",
       "      <td>0.005284</td>\n",
       "      <td>2.629223</td>\n",
       "      <td>497.558461</td>\n",
       "      <td>7.495391e+12</td>\n",
       "    </tr>\n",
       "  </tbody>\n",
       "</table>\n",
       "</div>"
      ],
      "text/plain": [
       "   depth_mean  depth_sd  cov_depth  diff_mean   diff_sd    cov_diff  \\\n",
       "0   61.749405  1.432621   0.023201   0.005284  2.629223  497.558461   \n",
       "\n",
       "         c_diff  \n",
       "0  7.495391e+12  "
      ]
     },
     "execution_count": 128,
     "metadata": {},
     "output_type": "execute_result"
    }
   ],
   "source": [
    "df_q3 = (\n",
    "    df_diamonds \n",
    "    >> gr.tf_mutate(depth_computed=100 * 2 * DF[\"z\"] / (DF[\"x\"] + DF[\"y\"]))\n",
    "    >> gr.tf_mutate(diff = DF[\"depth\"]- DF[\"depth_computed\"])\n",
    "    >> gr.tf_mutate(\n",
    "        depth_mean=gr.mean(DF[\"depth\"]),\n",
    "        depth_sd=gr.sd(DF[\"depth\"]),\n",
    "        diff_mean=gr.mean(DF[\"diff\"]),\n",
    "        diff_sd=gr.sd(DF[\"diff\"]),\n",
    "        diff_median = gr.median(DF[\"diff\"])\n",
    "    )\n",
    "    >> gr.tf_mutate(\n",
    "        cov_depth=DF[\"depth_sd\"] / DF[\"depth_mean\"],\n",
    "        cov_diff=DF[\"diff_sd\"] / DF[\"diff_mean\"],\n",
    "        c_diff=gr.IQR(DF[\"diff\"]/DF[\"diff_median\"])\n",
    "    )\n",
    "    >> gr.tf_select(DF[\"depth_mean\"],DF[\"depth_sd\"],DF[\"cov_depth\"],DF[\"diff_mean\"],DF[\"diff_sd\"],DF[\"cov_diff\"],DF[\"c_diff\"])\n",
    ")\n",
    "\n",
    "\n",
    "assert \\\n",
    "    df_q3[\"cov_depth\"][0] - 0.02320057 < 1e-3 and\\\n",
    "    df_q3[\"cov_diff\"][0]- 497.5585 < 1e-3,\\\n",
    "    \"Double check your calculations for depth and diff\"\n",
    "\n",
    "df_q3.head(1) \n",
    "\n",
    "#DRAFT NOTE: This is unelegant way to get the correct answer. Unclear how to pass forward variables in a summarize call or reorganize order with a select call"
   ]
  },
  {
   "cell_type": "markdown",
   "id": "e36ec12d-355d-42bf-a01b-b3ff459a7c21",
   "metadata": {},
   "source": [
    "**Observation**\n",
    "\n",
    "<!-- task-begin -->\n",
    "- Comment on the relative values of `cov_depth` and `cov_diff`.\n",
    "- Why is `cov_diff` so large?\n",
    "<!-- task-end -->\n",
    "<!-- solution-begin -->\n",
    "- `cov_depth` is tiny; there's not much variation in the depth, compared to its scale.\n",
    "- `cov_diff` is enormous! This is because the mean difference between `depth` and `depth_computed` is small, which causes the `cov` to blow up.\n",
    "<!-- solution-end -->"
   ]
  },
  {
   "cell_type": "markdown",
   "id": "55b9296d-7dda-4c2f-bc84-50623425aa9b",
   "metadata": {},
   "source": [
    "### __q4__ Compute and observe"
   ]
  },
  {
   "cell_type": "markdown",
   "id": "728ccede-8011-4dcc-a183-af9e5fa0da63",
   "metadata": {},
   "source": [
    "Compute the `price_mean = mean(price)`, `price_sd = sd(price)`, and `price_cov =\n",
    "price_sd / price_mean` for each `cut` of diamond. What observations can you make\n",
    "about the various cuts? Do those observations match your expectations?"
   ]
  },
  {
   "cell_type": "code",
   "execution_count": 124,
   "id": "8da34e00-7860-420b-b277-9ab206f8eb7f",
   "metadata": {},
   "outputs": [
    {
     "data": {
      "text/html": [
       "<div>\n",
       "<style scoped>\n",
       "    .dataframe tbody tr th:only-of-type {\n",
       "        vertical-align: middle;\n",
       "    }\n",
       "\n",
       "    .dataframe tbody tr th {\n",
       "        vertical-align: top;\n",
       "    }\n",
       "\n",
       "    .dataframe thead th {\n",
       "        text-align: right;\n",
       "    }\n",
       "</style>\n",
       "<table border=\"1\" class=\"dataframe\">\n",
       "  <thead>\n",
       "    <tr style=\"text-align: right;\">\n",
       "      <th></th>\n",
       "      <th>cut</th>\n",
       "      <th>price_mean</th>\n",
       "      <th>price_sd</th>\n",
       "      <th>price_cov</th>\n",
       "    </tr>\n",
       "  </thead>\n",
       "  <tbody>\n",
       "    <tr>\n",
       "      <th>0</th>\n",
       "      <td>Fair</td>\n",
       "      <td>4358.757764</td>\n",
       "      <td>3560.386612</td>\n",
       "      <td>0.816835</td>\n",
       "    </tr>\n",
       "    <tr>\n",
       "      <th>1</th>\n",
       "      <td>Good</td>\n",
       "      <td>3928.864452</td>\n",
       "      <td>3681.589584</td>\n",
       "      <td>0.937062</td>\n",
       "    </tr>\n",
       "    <tr>\n",
       "      <th>2</th>\n",
       "      <td>Ideal</td>\n",
       "      <td>3457.541970</td>\n",
       "      <td>3808.401172</td>\n",
       "      <td>1.101476</td>\n",
       "    </tr>\n",
       "    <tr>\n",
       "      <th>3</th>\n",
       "      <td>Premium</td>\n",
       "      <td>4584.257704</td>\n",
       "      <td>4349.204961</td>\n",
       "      <td>0.948726</td>\n",
       "    </tr>\n",
       "    <tr>\n",
       "      <th>4</th>\n",
       "      <td>Very Good</td>\n",
       "      <td>3981.759891</td>\n",
       "      <td>3935.862161</td>\n",
       "      <td>0.988473</td>\n",
       "    </tr>\n",
       "  </tbody>\n",
       "</table>\n",
       "</div>"
      ],
      "text/plain": [
       "         cut   price_mean     price_sd  price_cov\n",
       "0       Fair  4358.757764  3560.386612   0.816835\n",
       "1       Good  3928.864452  3681.589584   0.937062\n",
       "2      Ideal  3457.541970  3808.401172   1.101476\n",
       "3    Premium  4584.257704  4349.204961   0.948726\n",
       "4  Very Good  3981.759891  3935.862161   0.988473"
      ]
     },
     "execution_count": 124,
     "metadata": {},
     "output_type": "execute_result"
    }
   ],
   "source": [
    "# TASK: Compute the `price_mean = gr.mean(DF[\"price\"])`, `price_sd = gr.sd(DF[\"price\"])`, and `price_cov = price_sd / price_mean` for each `cut` of diamond. \n",
    "\n",
    "df_q4=(\n",
    "    df_diamonds\n",
    "# solution-begin    \n",
    "    >> gr.tf_group_by(DF[\"cut\"])\n",
    "    >> gr.tf_summarize(\n",
    "        price_mean=gr.mean(DF[\"price\"]),\n",
    "        price_sd=gr.sd(DF[\"price\"]),\n",
    "    )\n",
    "    >> gr.tf_mutate(price_cov=DF[\"price_sd\"]/DF[\"price_mean\"])\n",
    "# solution-end\n",
    ")\n",
    "\n",
    "# DRAFT NOTE: See below code chunk for assertion issue\n",
    "df_q4"
   ]
  },
  {
   "cell_type": "code",
   "execution_count": 120,
   "id": "dfc0a81b-b0ec-4610-9c46-6ed14defbfab",
   "metadata": {},
   "outputs": [
    {
     "data": {
      "text/html": [
       "<div>\n",
       "<style scoped>\n",
       "    .dataframe tbody tr th:only-of-type {\n",
       "        vertical-align: middle;\n",
       "    }\n",
       "\n",
       "    .dataframe tbody tr th {\n",
       "        vertical-align: top;\n",
       "    }\n",
       "\n",
       "    .dataframe thead th {\n",
       "        text-align: right;\n",
       "    }\n",
       "</style>\n",
       "<table border=\"1\" class=\"dataframe\">\n",
       "  <thead>\n",
       "    <tr style=\"text-align: right;\">\n",
       "      <th></th>\n",
       "      <th>cut</th>\n",
       "      <th>price_cov</th>\n",
       "    </tr>\n",
       "  </thead>\n",
       "  <tbody>\n",
       "    <tr>\n",
       "      <th>0</th>\n",
       "      <td>Fair</td>\n",
       "      <td>1.0</td>\n",
       "    </tr>\n",
       "    <tr>\n",
       "      <th>1</th>\n",
       "      <td>Good</td>\n",
       "      <td>1.0</td>\n",
       "    </tr>\n",
       "    <tr>\n",
       "      <th>2</th>\n",
       "      <td>Ideal</td>\n",
       "      <td>1.0</td>\n",
       "    </tr>\n",
       "    <tr>\n",
       "      <th>3</th>\n",
       "      <td>Premium</td>\n",
       "      <td>1.0</td>\n",
       "    </tr>\n",
       "    <tr>\n",
       "      <th>4</th>\n",
       "      <td>Very Good</td>\n",
       "      <td>1.0</td>\n",
       "    </tr>\n",
       "  </tbody>\n",
       "</table>\n",
       "</div>"
      ],
      "text/plain": [
       "         cut  price_cov\n",
       "0       Fair        1.0\n",
       "1       Good        1.0\n",
       "2      Ideal        1.0\n",
       "3    Premium        1.0\n",
       "4  Very Good        1.0"
      ]
     },
     "execution_count": 120,
     "metadata": {},
     "output_type": "execute_result"
    }
   ],
   "source": [
    "# Reading mutate_helpers.py I was expecting to be able to pass either a integer 3 after the DF.price_cov or pass the argument 'decimals = 3' per the np.round() documentation.\n",
    "# Neither worked so I wasn't sure how to go about the assert for validating the provided answer. \n",
    "\n",
    "df_q4_check = (\n",
    "    df_q4\n",
    "        >> gr.tf_select(DF[\"cut\"], DF[\"price_cov\"]) \n",
    "        >> gr.tf_mutate(price_cov = gr.round(DF[\"price_cov\"]))\n",
    "        #>> gr.tf_mutate(price_cov = gr.round(DF[\"price_cov\"], 3)) <- Expected  round call\n",
    ")\n",
    "df_q4_check"
   ]
  },
  {
   "cell_type": "markdown",
   "id": "cbca0567-1d35-435a-8057-32ac01081ef7",
   "metadata": {},
   "source": [
    "*Observations*\n",
    "<!-- task-begin -->\n",
    "- Write your observations here!\n",
    "<!-- task-end -->\n",
    "<!-- solution-begin -->\n",
    "- I would expect the `Ideal` diamonds to have the highest price, but that's not the case!\n",
    "- The `COV` for each cut is very large, on the order of 80 to 110 percent! To me, this implies that the other variables `clarity, carat, color` account for a large portion of the diamond price.\n",
    "<!-- solution-end -->"
   ]
  }
 ],
 "metadata": {
  "kernelspec": {
   "display_name": "Python 3 (ipykernel)",
   "language": "python",
   "name": "python3"
  },
  "language_info": {
   "codemirror_mode": {
    "name": "ipython",
    "version": 3
   },
   "file_extension": ".py",
   "mimetype": "text/x-python",
   "name": "python",
   "nbconvert_exporter": "python",
   "pygments_lexer": "ipython3",
   "version": "3.9.7"
  }
 },
 "nbformat": 4,
 "nbformat_minor": 5
}
