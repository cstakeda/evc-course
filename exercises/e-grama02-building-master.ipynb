{
 "cells": [
  {
   "cell_type": "markdown",
   "id": "d510fd46-e81f-4f9c-be55-50b05360ddf1",
   "metadata": {},
   "source": [
    "# Grama Model Building\n",
    "\n",
    "*Purpose*: \n"
   ]
  },
  {
   "cell_type": "markdown",
   "id": "56fdd009-2350-474f-b12f-a66429f49d1c",
   "metadata": {},
   "source": [
    "## Setup\n"
   ]
  },
  {
   "cell_type": "code",
   "execution_count": 25,
   "id": "3be1602a-2d26-44e0-8220-dd239891f288",
   "metadata": {},
   "outputs": [],
   "source": [
    "import grama as gr\n",
    "import numpy as np\n",
    "import pandas as pd\n",
    "DF = gr.Intention()"
   ]
  },
  {
   "cell_type": "markdown",
   "id": "1f250c68-8de0-49f7-bec9-0cb1b7c65567",
   "metadata": {},
   "source": [
    "# Useful Programming Concepts\n",
    "\n",
    "### TODO\n"
   ]
  },
  {
   "cell_type": "markdown",
   "id": "37016978-af5b-40fb-8578-ff6c8a39e908",
   "metadata": {},
   "source": [
    "## Lambda functions\n"
   ]
  },
  {
   "cell_type": "markdown",
   "id": "937a00fb-7456-467e-bcb9-d4cf9aa98fe8",
   "metadata": {},
   "source": [
    "### __q1__ Implement a `lambda` function\n",
    "\n",
    "Use the `lambda` syntax to implement the following function:\n",
    "\n",
    "$$f(x) = x + 1$$\n"
   ]
  },
  {
   "cell_type": "code",
   "execution_count": 2,
   "id": "567e18d2-acdf-4566-89d6-4c93fe561384",
   "metadata": {},
   "outputs": [
    {
     "name": "stdout",
     "output_type": "stream",
     "text": [
      "Success!\n"
     ]
    }
   ],
   "source": [
    "# TASK: Create a lambda function to implement the function above\n",
    "# task-begin\n",
    "fcn = None\n",
    "# task-end\n",
    "# solution-begin\n",
    "fcn = lambda x: x + 1\n",
    "# solution-end\n",
    "\n",
    "# Use the following to check your work\n",
    "assert \\\n",
    "    fcn(1) == 2, \\\n",
    "    \"Incorrect value\"\n",
    "\n",
    "print(\"Success!\")"
   ]
  },
  {
   "cell_type": "markdown",
   "id": "7d4b610a-e63f-4838-b412-ddc5f77d4758",
   "metadata": {},
   "source": [
    "## Working with DataFrames\n",
    "\n",
    "### TODO\n"
   ]
  },
  {
   "cell_type": "code",
   "execution_count": 3,
   "id": "c38388cb-1af5-4e2f-a0cc-a67052fa3022",
   "metadata": {},
   "outputs": [
    {
     "data": {
      "text/html": [
       "<div>\n",
       "<style scoped>\n",
       "    .dataframe tbody tr th:only-of-type {\n",
       "        vertical-align: middle;\n",
       "    }\n",
       "\n",
       "    .dataframe tbody tr th {\n",
       "        vertical-align: top;\n",
       "    }\n",
       "\n",
       "    .dataframe thead th {\n",
       "        text-align: right;\n",
       "    }\n",
       "</style>\n",
       "<table border=\"1\" class=\"dataframe\">\n",
       "  <thead>\n",
       "    <tr style=\"text-align: right;\">\n",
       "      <th></th>\n",
       "      <th>x</th>\n",
       "      <th>y</th>\n",
       "      <th>z</th>\n",
       "    </tr>\n",
       "  </thead>\n",
       "  <tbody>\n",
       "    <tr>\n",
       "      <th>0</th>\n",
       "      <td>1</td>\n",
       "      <td>a</td>\n",
       "      <td>recycled value</td>\n",
       "    </tr>\n",
       "    <tr>\n",
       "      <th>1</th>\n",
       "      <td>2</td>\n",
       "      <td>b</td>\n",
       "      <td>recycled value</td>\n",
       "    </tr>\n",
       "    <tr>\n",
       "      <th>2</th>\n",
       "      <td>3</td>\n",
       "      <td>c</td>\n",
       "      <td>recycled value</td>\n",
       "    </tr>\n",
       "  </tbody>\n",
       "</table>\n",
       "</div>"
      ],
      "text/plain": [
       "   x  y               z\n",
       "0  1  a  recycled value\n",
       "1  2  b  recycled value\n",
       "2  3  c  recycled value"
      ]
     },
     "execution_count": 3,
     "metadata": {},
     "output_type": "execute_result"
    }
   ],
   "source": [
    "# NOTE: No need to edit; recall that gr.df_make(...)\n",
    "# helps us construct DataFrames\n",
    "gr.df_make(\n",
    "    x=[1, 2, 3],\n",
    "    y=[\"a\", \"b\", \"c\"],\n",
    "    z=\"recycled value\",\n",
    ")"
   ]
  },
  {
   "cell_type": "markdown",
   "id": "21843218-52ce-4ddc-82df-c23e3047160d",
   "metadata": {},
   "source": [
    "### __q2__ Functions on DataFrames\n",
    "\n",
    "Use the `lambda` syntax to implement the following function:\n",
    "\n",
    "$$y(x) = x + 1$$\n",
    "\n",
    "Make sure your lambda function takes a DataFrame as an argument, and returns a DataFrame as an output."
   ]
  },
  {
   "cell_type": "code",
   "execution_count": 10,
   "id": "07121f97-97e5-4982-b15d-2a55aeeb9a34",
   "metadata": {},
   "outputs": [
    {
     "name": "stdout",
     "output_type": "stream",
     "text": [
      "Success!\n"
     ]
    }
   ],
   "source": [
    "# TASK: Create a lambda function based on DataFrames\n",
    "# task-begin\n",
    "fcn_df = None\n",
    "# task-end\n",
    "# solution-begin\n",
    "fcn_df = lambda df: gr.df_make(y=df.x + 1)\n",
    "# solution-end\n",
    "\n",
    "# NOTE: Use the following to check your work\n",
    "df_res = fcn_df(gr.df_make(x=[0, 1]))\n",
    "df_out = gr.df_make(y=[1, 2])\n",
    "\n",
    "assert \\\n",
    "    isinstance(df_res, pd.DataFrame), \\\n",
    "    \"Output must be DataFrame\"\n",
    "\n",
    "assert \\\n",
    "    gr.df_equal(df_res, df_out), \\\n",
    "    \"Incorrect output\"\n",
    "\n",
    "print(\"Success!\")"
   ]
  },
  {
   "cell_type": "markdown",
   "id": "2bd6f646-51ea-4573-bd89-7358d97acc61",
   "metadata": {},
   "source": [
    "# Constructing Grama Models\n",
    "\n",
    "### TODO\n",
    "\n",
    "(Reminder: Compositions)\n"
   ]
  },
  {
   "cell_type": "markdown",
   "id": "1c3ec730-2fcf-4a4d-8aa7-a9ea21cff00c",
   "metadata": {},
   "source": [
    "### Add a function\n",
    "\n",
    "### TODO\n",
    "\n",
    "`gr.cp_vec_function()`\n"
   ]
  },
  {
   "cell_type": "markdown",
   "id": "19284c69-4fbf-4418-a1a3-607c760f803b",
   "metadata": {},
   "source": [
    "### __q3__ Add a function to a model\n",
    "\n",
    "Add a function to `md_basic` that provides the output `y = x + 1`.\n"
   ]
  },
  {
   "cell_type": "code",
   "execution_count": 15,
   "id": "000666fb-18e1-48d9-b2d7-3cfa2b022676",
   "metadata": {},
   "outputs": [
    {
     "name": "stdout",
     "output_type": "stream",
     "text": [
      "Success!\n"
     ]
    }
   ],
   "source": [
    "# TASK: Finish implementing the model\n",
    "md_basic = (\n",
    "    gr.Model(\"Basic model\")\n",
    "# solution-begin\n",
    "    >> gr.cp_vec_function(\n",
    "        fun=lambda df: gr.df_make(\n",
    "            y=df.x + 1\n",
    "        ),\n",
    "        var=[\"x\"],\n",
    "        out=[\"y\"],\n",
    "    )\n",
    "# solution-end\n",
    ")\n",
    "\n",
    "# NOTE: Use the following to check your work\n",
    "df_res = (\n",
    "    md_basic\n",
    "    >> gr.ev_df(gr.df_make(x=0))\n",
    ")\n",
    "df_out = gr.df_make(x=0, y=1)\n",
    "\n",
    "assert \\\n",
    "    set(md_basic.var) == {\"x\"}, \\\n",
    "    \"md_basic has wrong variables\"\n",
    "    \n",
    "assert \\\n",
    "    set(md_basic.out) == {\"y\"}, \\\n",
    "    \"md_basic has wrong outputs\"\n",
    "\n",
    "assert \\\n",
    "    gr.df_equal(df_res, df_out), \\\n",
    "    \"md_basic function incorrect\"\n",
    "    \n",
    "print(\"Success!\")"
   ]
  },
  {
   "cell_type": "markdown",
   "id": "a5799520-2a0e-40ee-ad3c-3d2ee067ab02",
   "metadata": {},
   "source": [
    "### Add bounds\n",
    "\n",
    "`gr.cp_bounds()`\n"
   ]
  },
  {
   "cell_type": "markdown",
   "id": "436779fb-32b3-4b84-91fa-486e9b8c0184",
   "metadata": {},
   "source": [
    "### __q4__ Add bounds to a model\n",
    "\n",
    "For the following model, add bounds $0 \\leq x_1 \\leq 1$ and $0 \\leq x_2 \\leq 1$.\n"
   ]
  },
  {
   "cell_type": "code",
   "execution_count": 22,
   "id": "d4d09326-cdbc-4af4-adf3-bb9370b83790",
   "metadata": {},
   "outputs": [
    {
     "name": "stdout",
     "output_type": "stream",
     "text": [
      "Success!\n"
     ]
    }
   ],
   "source": [
    "# TASK: Finish implementing the model\n",
    "md_bounded = (\n",
    "    gr.Model(\"Bounded input\")\n",
    "    >> gr.cp_vec_function(\n",
    "        fun=lambda df: gr.df_make(\n",
    "            y=gr.sin(df.x1) + gr.sin(df.x2)**2\n",
    "        ),\n",
    "        var=[\"x1\", \"x2\"],\n",
    "        out=[\"y\"],\n",
    "    )\n",
    "# solution-begin\n",
    "    >> gr.cp_bounds(\n",
    "        x1=(0, 1),\n",
    "        x2=(0, 1),\n",
    "    )\n",
    "# solution-end\n",
    ")\n",
    "\n",
    "# NOTE: Use the following to check your work\n",
    "assert \\\n",
    "    (md_bounded.domain.bounds[\"x1\"][0] == 0) and \\\n",
    "    (md_bounded.domain.bounds[\"x1\"][1] == 1) and \\\n",
    "    (md_bounded.domain.bounds[\"x2\"][0] == 0) and \\\n",
    "    (md_bounded.domain.bounds[\"x2\"][1] == 1), \\\n",
    "    \"md_bounded bounds incorrect\"\n",
    "    \n",
    "print(\"Success!\")"
   ]
  },
  {
   "cell_type": "markdown",
   "id": "3fe6d38a-6be3-4782-8a4d-777fc63fe103",
   "metadata": {},
   "source": [
    "# Checking models\n",
    "\n",
    "### TODO\n"
   ]
  },
  {
   "cell_type": "markdown",
   "id": "2aff0dab-4def-463f-b84b-43c769969e27",
   "metadata": {
    "tags": []
   },
   "source": [
    "### __q5__ Create a grid of values\n"
   ]
  },
  {
   "cell_type": "code",
   "execution_count": 24,
   "id": "82663242-ad04-417f-9ad2-fab8548b0ef0",
   "metadata": {},
   "outputs": [
    {
     "data": {
      "image/png": "[encoded data removed]",
      "text/plain": [
       "<Figure size 640x480 with 1 Axes>"
      ]
     },
     "metadata": {},
     "output_type": "display_data"
    },
    {
     "data": {
      "text/plain": [
       "<ggplot: (8789753875908)>"
      ]
     },
     "execution_count": 24,
     "metadata": {},
     "output_type": "execute_result"
    }
   ],
   "source": [
    "# TASK:\n",
    "(\n",
    "    # TODO: Try modifying the following code; see how\n",
    "    # the results change\n",
    "    gr.df_grid(\n",
    "        x=[0, 1, 2],\n",
    "        y=[0, 1],\n",
    "    )\n",
    "    \n",
    "    # NOTE: No need to edit the following\n",
    "    >> gr.ggplot(gr.aes(\"x\", \"y\"))\n",
    "    + gr.geom_point()\n",
    ")"
   ]
  },
  {
   "cell_type": "markdown",
   "id": "f654b9b6-8c24-4798-b2bc-ecde29f2d5c2",
   "metadata": {
    "tags": []
   },
   "source": [
    "## Model sanity checks\n",
    "\n",
    "### TODO\n"
   ]
  },
  {
   "cell_type": "markdown",
   "id": "2385a2e3-7678-4a58-9411-7eaf6761d368",
   "metadata": {},
   "source": [
    "$$\\begin{aligned}f(x, y) &= x + y^2 \\,|\\, x < 1/2 \\\\ & = 1 - x + y^2 \\,|\\, x \\geq 1/2 \\end{aligned}$$\n"
   ]
  },
  {
   "cell_type": "code",
   "execution_count": 33,
   "id": "e46ba1d3-9c6a-4279-bf02-85dae57fddb9",
   "metadata": {},
   "outputs": [
    {
     "data": {
      "text/plain": [
       "model: Error example\n",
       "\n",
       "  inputs:\n",
       "    var_det:\n",
       "      x: [0, 1]\n",
       "      y: [0, 1]\n",
       "\n",
       "    var_rand:\n",
       "\n",
       "    copula:\n",
       "      None\n",
       "\n",
       "  functions:\n",
       "      f0: ['x', 'y'] -> ['f']"
      ]
     },
     "execution_count": 33,
     "metadata": {},
     "output_type": "execute_result"
    }
   ],
   "source": [
    "# NOTE: No need to edit; you'll explore this model in the next task\n",
    "md_error = (\n",
    "    gr.Model(\"Error example\")\n",
    "    >> gr.cp_vec_function(\n",
    "        fun=lambda df: gr.df_make(\n",
    "            f=(df.x + df.y**2) * (df.x < 0.5)\n",
    "             +(1 + df.x + df.y**2) * (df.x >= 0.5)\n",
    "        ),\n",
    "        var=[\"x\", \"y\"],\n",
    "        out=[\"f\"],\n",
    "    )\n",
    "    >> gr.cp_bounds(\n",
    "        x=(0, 1),\n",
    "        y=(0, 1),\n",
    "    )\n",
    ")\n",
    "md_error"
   ]
  },
  {
   "cell_type": "markdown",
   "id": "8ec2e3a9-b865-4cde-accf-5ee5b6a2875a",
   "metadata": {},
   "source": [
    "### __q6__ Find the error\n"
   ]
  },
  {
   "cell_type": "code",
   "execution_count": 32,
   "id": "514fa3e5-3219-4ce2-9c20-2460a00b2d1c",
   "metadata": {},
   "outputs": [
    {
     "data": {
      "image/png": "[encoded data removed]",
      "text/plain": [
       "<Figure size 640x480 with 1 Axes>"
      ]
     },
     "metadata": {},
     "output_type": "display_data"
    },
    {
     "data": {
      "text/plain": [
       "<ggplot: (8789754297835)>"
      ]
     },
     "execution_count": 32,
     "metadata": {},
     "output_type": "execute_result"
    }
   ],
   "source": [
    "# TASK: Explore the model's behavior to find the implementation error\n",
    "(\n",
    "    md_error\n",
    "    >> gr.ev_df(\n",
    "# task-begin\n",
    "        # Define an input DataFrame to evaluate the model\n",
    "# task-end\n",
    "# solution-begin\n",
    "        gr.df_grid(\n",
    "            x=np.linspace(0, 1),\n",
    "            y=np.linspace(0, 1),\n",
    "        )\n",
    "# solution-end\n",
    "    )\n",
    "    # NOTE: No need to edit; use this to visualize your results\n",
    "    >> gr.ggplot(gr.aes(\"x\", \"y\"))\n",
    "    + gr.geom_tile(gr.aes(fill=\"f\"))\n",
    ")"
   ]
  }
 ],
 "metadata": {
  "kernelspec": {
   "display_name": "Python 3 (ipykernel)",
   "language": "python",
   "name": "python3"
  },
  "language_info": {
   "codemirror_mode": {
    "name": "ipython",
    "version": 3
   },
   "file_extension": ".py",
   "mimetype": "text/x-python",
   "name": "python",
   "nbconvert_exporter": "python",
   "pygments_lexer": "ipython3",
   "version": "3.9.7"
  }
 },
 "nbformat": 4,
 "nbformat_minor": 5
}
