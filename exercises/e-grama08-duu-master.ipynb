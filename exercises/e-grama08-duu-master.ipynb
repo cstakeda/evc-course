{
 "cells": [
  {
   "cell_type": "markdown",
   "id": "90831c35-c54e-46f0-b276-57b01529b7f4",
   "metadata": {},
   "source": [
    "# Design Under Uncertainty\n",
    "\n",
    "*Purpose*: \n"
   ]
  },
  {
   "cell_type": "markdown",
   "id": "5e9b1432-3eda-461e-9347-cef09f0b2943",
   "metadata": {},
   "source": [
    "## Setup\n"
   ]
  },
  {
   "cell_type": "code",
   "execution_count": 1,
   "id": "13326486-5517-4ca5-9646-d682f7a6f339",
   "metadata": {},
   "outputs": [],
   "source": [
    "import grama as gr\n",
    "DF = gr.Intention()\n",
    "%matplotlib inline"
   ]
  },
  {
   "cell_type": "markdown",
   "id": "3b920381-4ff7-4eef-868b-a31ef7a6db1a",
   "metadata": {},
   "source": [
    "# Uncertainty Propagation\n"
   ]
  },
  {
   "cell_type": "code",
   "execution_count": 2,
   "id": "e4a9943a-baba-4bea-8276-ac98772669b9",
   "metadata": {},
   "outputs": [],
   "source": [
    "from grama.models import make_prlc_rand\n",
    "md_circuit = make_prlc_rand()\n"
   ]
  },
  {
   "cell_type": "markdown",
   "id": "ed6e47e8-ee61-42ce-bfb4-516e74661841",
   "metadata": {},
   "source": [
    "## Perturbed Design Variables\n",
    "\n",
    "(Manufacturing variability means real parts will tend to be slightly different from designed parts.)\n"
   ]
  },
  {
   "cell_type": "markdown",
   "id": "01184223-ba89-47cb-bf7a-34958199ae63",
   "metadata": {},
   "source": [
    "In the previous exercise e-grama07-fit-multivar we saw a model for a circuit's performance. That system exhibited variability in its *realized component values*; we could pick the nominal (designed) component values `R, L, C`, but manufacturing variability would give rise to different as-made component values `Rr, Lr, Cr`.\n",
    "\n",
    "As a reminder, let's take a look at designed `C` and realized `Cr` values of the circuit capacitance.\n"
   ]
  },
  {
   "cell_type": "code",
   "execution_count": 3,
   "id": "fc8380d6-ec18-4b6e-a189-6f4057cd9e89",
   "metadata": {},
   "outputs": [
    {
     "name": "stdout",
     "output_type": "stream",
     "text": [
      "eval_sample() is rounding n...\n"
     ]
    },
    {
     "data": {
      "text/html": [
       "<div>\n",
       "<style scoped>\n",
       "    .dataframe tbody tr th:only-of-type {\n",
       "        vertical-align: middle;\n",
       "    }\n",
       "\n",
       "    .dataframe tbody tr th {\n",
       "        vertical-align: top;\n",
       "    }\n",
       "\n",
       "    .dataframe thead th {\n",
       "        text-align: right;\n",
       "    }\n",
       "</style>\n",
       "<table border=\"1\" class=\"dataframe\">\n",
       "  <thead>\n",
       "    <tr style=\"text-align: right;\">\n",
       "      <th></th>\n",
       "      <th>C</th>\n",
       "      <th>Cr_lo</th>\n",
       "      <th>Cr_mu</th>\n",
       "      <th>Cr_up</th>\n",
       "    </tr>\n",
       "  </thead>\n",
       "  <tbody>\n",
       "    <tr>\n",
       "      <th>0</th>\n",
       "      <td>50.0005</td>\n",
       "      <td>42.465673</td>\n",
       "      <td>65.400415</td>\n",
       "      <td>87.142057</td>\n",
       "    </tr>\n",
       "  </tbody>\n",
       "</table>\n",
       "</div>"
      ],
      "text/plain": [
       "         C      Cr_lo      Cr_mu      Cr_up\n",
       "0  50.0005  42.465673  65.400415  87.142057"
      ]
     },
     "execution_count": 3,
     "metadata": {},
     "output_type": "execute_result"
    }
   ],
   "source": [
    "# NOTE: No need to edit; run and inspect\n",
    "(\n",
    "    md_circuit\n",
    "    >> gr.ev_sample(n=1e3, df_det=\"nom\")\n",
    "    \n",
    "    >> gr.tf_summarize(\n",
    "        C=gr.mean(DF.C),\n",
    "        Cr_lo=gr.quant(DF.Cr, p=0.05),\n",
    "        Cr_mu=gr.mean(DF.Cr),\n",
    "        Cr_up=gr.quant(DF.Cr, p=0.95),\n",
    "    )\n",
    ")"
   ]
  },
  {
   "cell_type": "markdown",
   "id": "686badbe-6776-480b-80ca-a713c2b99f9b",
   "metadata": {},
   "source": [
    "### __qX__ Interpret the following density plot\n",
    "\n",
    "The nominal value for `Design 1` is `x = 0.5`, while the nominal value for `Design 2` is `x = 1.5`. However, parts manufactured according to both designs are subject to manufacturing variability, as depicted by the following densities. Answer the questions under *observations* below.\n"
   ]
  },
  {
   "cell_type": "code",
   "execution_count": 4,
   "id": "38a74bea-9918-4844-aceb-0ffa26cabd50",
   "metadata": {
    "jupyter": {
     "source_hidden": true
    },
    "tags": [
     "hide-input"
    ]
   },
   "outputs": [
    {
     "data": {
      "image/png": "[encoded data removed]",
      "text/plain": [
       "<Figure size 640x480 with 1 Axes>"
      ]
     },
     "metadata": {
      "needs_background": "light"
     },
     "output_type": "display_data"
    },
    {
     "data": {
      "text/plain": [
       "<ggplot: (8785511871386)>"
      ]
     },
     "execution_count": 4,
     "metadata": {},
     "output_type": "execute_result"
    }
   ],
   "source": [
    "mg_1 = gr.marg_mom(\"norm\", mean=+0.5, sd=0.1)\n",
    "mg_2 = gr.marg_mom(\"norm\", mean=+1.5, sd=0.1)\n",
    "\n",
    "(\n",
    "    gr.df_make(x=gr.linspace(0, +2, 100))\n",
    "    >> gr.tf_mutate(\n",
    "        y_1=mg_1.d(DF.x),\n",
    "        y_2=mg_2.d(DF.x),\n",
    "    )\n",
    "    \n",
    "    >> gr.ggplot(gr.aes(\"x\"))\n",
    "    + gr.annotate(\"segment\", x=+0.5, xend=+0.5, y=0, yend=4.25, linetype=\"dashed\")\n",
    "    + gr.annotate(\n",
    "        \"text\",\n",
    "        x=+0.5, y=4.5,\n",
    "        label=\"Design 1\",\n",
    "    )\n",
    "    + gr.annotate(\"segment\", x=+1.5, xend=+1.5, y=0, yend=4.25, linetype=\"dashed\")\n",
    "    + gr.annotate(\n",
    "        \"text\",\n",
    "        x=+1.5, y=4.5,\n",
    "        label=\"Design 2\",\n",
    "    )\n",
    "    + gr.geom_line(gr.aes(y=\"y_1\"), color=\"salmon\")\n",
    "    + gr.geom_line(gr.aes(y=\"y_2\"), color=\"cyan\")\n",
    "    \n",
    "    + gr.theme_minimal()\n",
    "    + gr.labs(\n",
    "        x=\"Realized Design Variable\",\n",
    "        y=\"Density\"\n",
    "    )\n",
    ")"
   ]
  },
  {
   "cell_type": "markdown",
   "id": "ec9cf6eb-dbf1-4a85-80c0-5fb666ff2c67",
   "metadata": {},
   "source": [
    "*Observations*\n",
    "\n",
    "For the following questions, assume that you can measure `x` with *perfect* accuracy.\n",
    "\n",
    "<!-- task-begin -->\n",
    "- Suppose you have a part with `x == 0.61`. Which design specification was this most likely manufactured according to?\n",
    "  - (Your response here)\n",
    "- Suppose you selected a random part of `Design 2` off the manufacturing line and found that `x == 1.40`. Would you be surprised by this?\n",
    "  - (Your response here)\n",
    "<!-- task-end -->\n",
    "<!-- solution-begin -->\n",
    "- Suppose you have a part with `x == 0.61`. Which design specification was this most likely manufactured according to?\n",
    "  - `Design 1`\n",
    "- Suppose you selected a random part of `Design 2` off the manufacturing line and found that `x == 1.40`. Would you be surprised by this?\n",
    "  - Unsurprising; we can see that `x == 1.40` is well-within the distribution around the nominal `Design 2` value.\n",
    "<!-- solution-end -->"
   ]
  },
  {
   "cell_type": "markdown",
   "id": "3d058eb9-7477-4fd5-9b12-30198131b0b2",
   "metadata": {},
   "source": [
    "### __qX__ Set up a perturbation model\n"
   ]
  },
  {
   "cell_type": "markdown",
   "id": "419f8573-d258-4d25-9e7e-4502e3e1796b",
   "metadata": {},
   "source": [
    "## Downstream Uncertainty\n"
   ]
  },
  {
   "cell_type": "markdown",
   "id": "e7c9ceb6-c966-42ee-9848-5d43ec11cc16",
   "metadata": {},
   "source": [
    "### __qX__ Do a sweep with quantified uncertainty\n",
    "\n",
    "TODO\n"
   ]
  },
  {
   "cell_type": "markdown",
   "id": "3f7575e5-3bf5-4f5f-ba37-37a0e392266c",
   "metadata": {},
   "source": [
    "## Real vs Error\n",
    "\n",
    "Generally speaking: Real variability will propagate through a system without our intervention. Error will only propagate into a system through our design decisions.\n"
   ]
  },
  {
   "cell_type": "markdown",
   "id": "8c72bc3d-2d8c-4089-949a-466ba4b57a62",
   "metadata": {},
   "source": [
    "TODO Illustrative example\n"
   ]
  },
  {
   "cell_type": "markdown",
   "id": "d25eb77c-4a95-46ed-9a06-8c5c1cb3f9c6",
   "metadata": {},
   "source": [
    "```{admonition} Separating real and erroneous variability\n",
    "Most physical scenarios will exhibit both real and erroneous variability. Only careful data collection combined with sound statistical analysis can seprate these two sources of variability.\n",
    "```"
   ]
  },
  {
   "cell_type": "markdown",
   "id": "2e3b04b6-36ef-4612-94c9-87d686fab53d",
   "metadata": {},
   "source": [
    "# Designing for uncertainty\n"
   ]
  },
  {
   "cell_type": "markdown",
   "id": "c621568e-fef1-4580-886a-fe9b2f992cb2",
   "metadata": {},
   "source": [
    "## Robustness\n"
   ]
  },
  {
   "cell_type": "code",
   "execution_count": 5,
   "id": "6d546e8c-435f-4c96-bc69-ea6ed90e2ec2",
   "metadata": {},
   "outputs": [],
   "source": [
    "md_poly = (\n",
    "    gr.Model(\"Polynomial\")\n",
    "    >> gr.cp_vec_function(\n",
    "        fun=lambda df: gr.df_make(\n",
    "            xp=df.x + df.e\n",
    "        ),\n",
    "        var=[\"x\", \"e\"],\n",
    "        out=[\"xp\"],\n",
    "        name=\"Additive input noise\"\n",
    "    )\n",
    "    >> gr.cp_vec_function(\n",
    "        fun=lambda df: gr.df_make(\n",
    "            y=(df.xp + 0.6) \n",
    "             *(df.xp + 0.4) \n",
    "             *(df.xp - 0.65)\n",
    "             *(df.xp - 0.55)\n",
    "             *13.5 * (1 + gr.exp(8.0 * df.xp))\n",
    "        ),\n",
    "        var=[\"xp\"],\n",
    "        out=[\"y\"],\n",
    "        name=\"Function to minimize\"\n",
    "    )\n",
    "    >> gr.cp_bounds(x=(-1, +1))\n",
    "    >> gr.cp_marginals(e=gr.marg_mom(\"norm\", mean=0, sd=0.03))\n",
    "    >> gr.cp_copula_independence()\n",
    ")"
   ]
  },
  {
   "cell_type": "markdown",
   "id": "53705cd1-06a8-45de-b8c0-a4b9adaa3e9a",
   "metadata": {},
   "source": []
  },
  {
   "cell_type": "code",
   "execution_count": 6,
   "id": "cdebfbfe-e245-4fab-a297-eefcdf5e4a3c",
   "metadata": {
    "tags": [
     "hide-input"
    ]
   },
   "outputs": [
    {
     "data": {
      "image/png": "[encoded data removed]",
      "text/plain": [
       "<Figure size 640x480 with 1 Axes>"
      ]
     },
     "metadata": {
      "needs_background": "light"
     },
     "output_type": "display_data"
    },
    {
     "data": {
      "text/plain": [
       "<ggplot: (8785474094620)>"
      ]
     },
     "execution_count": 6,
     "metadata": {},
     "output_type": "execute_result"
    }
   ],
   "source": [
    "# Evaluate model without uncertainty\n",
    "df_poly_nom = (\n",
    "    md_poly\n",
    "    >> gr.ev_nominal(\n",
    "        df_det=gr.df_make(x=gr.linspace(-1, +1, 100)),\n",
    "    )\n",
    ")\n",
    "\n",
    "# Evaluate with uncertainty, take quantiles\n",
    "df_poly_mc = (\n",
    "    md_poly\n",
    "    >> gr.ev_sample(\n",
    "        df_det=gr.df_make(x=gr.linspace(-1, +1, 100)),\n",
    "        n=40,\n",
    "        seed=101,\n",
    "    )\n",
    "    >> gr.tf_group_by(\"x\")\n",
    "    >> gr.tf_summarize(\n",
    "        y_lo=gr.quant(DF.y, p=0.05),\n",
    "        y_mu=gr.median(DF.y),\n",
    "        y_up=gr.quant(DF.y, p=0.95),\n",
    "    )\n",
    "    >> gr.tf_ungroup()\n",
    ")\n",
    "\n",
    "# Visualize\n",
    "(\n",
    "    df_poly_mc\n",
    "    >> gr.tf_mutate(source=\"Quantiles\")\n",
    "    >> gr.ggplot(gr.aes(\"x\"))\n",
    "    + gr.geom_line(\n",
    "        data=df_poly_nom\n",
    "        >> gr.tf_mutate(source=\"Nominal\"),\n",
    "        mapping=gr.aes(y=\"y\", linetype=\"source\", color=\"source\"),\n",
    "        size=1,\n",
    "    )\n",
    "    + gr.geom_ribbon(\n",
    "        mapping=gr.aes(ymin=\"y_lo\", ymax=\"y_up\", linetype=\"source\", color=\"source\"),\n",
    "        fill=None,\n",
    "    )\n",
    "    \n",
    "    + gr.scale_y_continuous(breaks=(-10, -5, 0, +5, +10, +15, +20))\n",
    "    + gr.scale_linetype_discrete(name=\" \")\n",
    "    + gr.scale_color_manual(\n",
    "        values=dict(Nominal=\"grey\", Quantiles=\"black\"),\n",
    "    )\n",
    "    + gr.coord_cartesian(ylim=(-10, 20))\n",
    "    + gr.theme_minimal()\n",
    "    + gr.guides(color=None)\n",
    ")"
   ]
  },
  {
   "cell_type": "markdown",
   "id": "160eb242-8861-4f16-ac99-9227d9bf85d6",
   "metadata": {},
   "source": [
    "*Observations*\n",
    "\n",
    "For this example, *lower* values of `y` are better.\n",
    "\n",
    "<!-- task-begin -->\n",
    "- *Approximately*, what is the lowest value `y` value the `Nominal` curve achieves across the values of `x` depicted above?\n",
    "  - (Your response here)\n",
    "- *Approimately*, what is the value of `y` for the `Nominal` curve at `x = -0.5`?\n",
    "  - (Your response here)\n",
    "- Note the spread between the `Quantiles` at $x \\approx 0.6$. *Approximately* what range of `y` values would you expect to result from releated manufacturing at $x \\approx 0.6$?\n",
    "  - (Your response here)\n",
    "- Note the spread between the `Quantiles` at $x \\approx -0.5$. *Approximately* what range of `y` values would you expect to result from releated manufacturing at $x \\approx -0.5$?\n",
    "  - (Your response here)\n",
    "- Suppose you plan to manufacture many parts according to this process, test all specimens, and choose the 5%. Which design (value of `x`) would you pick, and why?\n",
    "  - (Your response here)\n",
    "- Suppose you plan to manufacture many parts according to this process, all of which must work at an acceptable level. Which design (value of `x`) would you pick, and why?\n",
    "  - (Your response here)\n",
    "<!-- task-end -->\n",
    "<!-- solution-begin -->\n",
    "<!-- solution-end -->"
   ]
  },
  {
   "cell_type": "markdown",
   "id": "d2c4222b-b223-4309-b858-3ec801733795",
   "metadata": {},
   "source": [
    "## Reliability\n"
   ]
  },
  {
   "cell_type": "markdown",
   "id": "cc96bd9c-d35f-4300-8587-f8a7d0564ac8",
   "metadata": {},
   "source": [
    "## Setting Variability Targets\n"
   ]
  }
 ],
 "metadata": {
  "kernelspec": {
   "display_name": "Python 3 (ipykernel)",
   "language": "python",
   "name": "python3"
  },
  "language_info": {
   "codemirror_mode": {
    "name": "ipython",
    "version": 3
   },
   "file_extension": ".py",
   "mimetype": "text/x-python",
   "name": "python",
   "nbconvert_exporter": "python",
   "pygments_lexer": "ipython3",
   "version": "3.9.7"
  }
 },
 "nbformat": 4,
 "nbformat_minor": 5
}
