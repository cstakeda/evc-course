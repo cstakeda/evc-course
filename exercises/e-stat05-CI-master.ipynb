{
 "cells": [
  {
   "cell_type": "markdown",
   "id": "47ebea56-22a8-47e1-9c79-8db1365b2418",
   "metadata": {},
   "source": [
    "# Confidence Intervals and the CLT\n",
    "\n",
    "*Purpose*: When studying sampled data, we need a principled way to report our results with their uncertainties. Confidence intervals (CI) are an excellent way to summarize results, and the central limit theorem (CLT) helps us to construct these intervals.\n"
   ]
  },
  {
   "cell_type": "markdown",
   "id": "3a0fc699-b631-4b99-8f40-6a360d45edec",
   "metadata": {},
   "source": [
    "## Setup\n"
   ]
  },
  {
   "cell_type": "code",
   "execution_count": 1,
   "id": "7021135a-99df-457f-ae4d-650b11ebe198",
   "metadata": {},
   "outputs": [],
   "source": [
    "import grama as gr\n",
    "DF = gr.Intention()\n",
    "%matplotlib inline"
   ]
  },
  {
   "cell_type": "markdown",
   "id": "fe2ab105-38eb-482b-a88c-c335e5348966",
   "metadata": {},
   "source": [
    "# Theory Fundamentals\n",
    "\n",
    "## Motivation: Limited data means error\n"
   ]
  },
  {
   "cell_type": "code",
   "execution_count": 2,
   "id": "4d824029-85f9-478a-9305-5fc73ccb5068",
   "metadata": {},
   "outputs": [
    {
     "name": "stderr",
     "output_type": "stream",
     "text": [
      "/Users/zach/Git/py_grama/grama/marginals.py:336: RuntimeWarning: divide by zero encountered in double_scalars\n"
     ]
    },
    {
     "data": {
      "text/plain": [
       "(+0) uniform, {'mean': '0.000e+00', 's.d.': '1.000e+00', 'COV': inf, 'skew.': 0.0, 'kurt.': 1.8}"
      ]
     },
     "execution_count": 2,
     "metadata": {},
     "output_type": "execute_result"
    }
   ],
   "source": [
    "## NOTE: No need to edit; run and inspect\n",
    "# Define an uncertain quantity\n",
    "mg_test = gr.marg_mom(\n",
    "    \"uniform\", \n",
    "    mean=0, \n",
    "    sd=1,\n",
    ")\n",
    "\n",
    "mg_test\n"
   ]
  },
  {
   "cell_type": "markdown",
   "id": "3548100a-8541-44ec-bda2-533a9d547c18",
   "metadata": {},
   "source": [
    "From this marginal summary, we can see that the mean of the distribution is `0`. However, if we have limited data then the mean of that sample will generally not be exactly zero:\n"
   ]
  },
  {
   "cell_type": "code",
   "execution_count": 3,
   "id": "858ff818-8c5f-485c-a336-f9a2942125ba",
   "metadata": {},
   "outputs": [
    {
     "data": {
      "text/plain": [
       "-0.0665664741051046"
      ]
     },
     "execution_count": 3,
     "metadata": {},
     "output_type": "execute_result"
    }
   ],
   "source": [
    "## NOTE: No need to edit; run and inspect\n",
    "gr.mean(mg_test.r(10))\n"
   ]
  },
  {
   "cell_type": "markdown",
   "id": "4819e570-90ac-443d-b467-aac9572be13a",
   "metadata": {},
   "source": [
    "Limited data leads to a form of error called *sampling error*. In practice we *almost always* have limited data, so sampling error is an unavoidable reality.\n",
    "\n",
    "Since sampling error is unavoidable, we would like to know *how much* sampling error there is in a given quantity. The central limit theorem (CLT) helps us quantify sampling error.\n"
   ]
  },
  {
   "cell_type": "markdown",
   "id": "82af091b-fd0c-44c8-be91-4bb65c535933",
   "metadata": {
    "tags": []
   },
   "source": [
    "## Central Limit Theorem\n",
    "\n",
    "Let $X \\sim \\rho$ be a random quantity with mean $\\mu$ and variance $\\sigma^2$ not infinite. The sample mean is denoted $\\overline{X}_n$, and is defined as\n",
    "\n",
    "$$\\overline{X}_n = \\frac{1}{n} \\sum_{i=1}^n X_i.$$\n",
    "\n",
    "Under independent, repeated observations from the same distribution $X_i \\sim \\rho$, the central limit theorem states that $\\overline{X}_n$ becomes increasingly normal in its distribution as $n$ is increased, regardless of the original distribution $\\rho$. That is\n",
    "\n",
    "$$\\overline{X}_n \\stackrel{d}{\\to} N(\\mu, \\sigma^2/n)$$\n",
    "\n",
    "The CLT is useful because it gives us a way to quantify sampling error: Since the CLT holds regardless of where the data came from $X \\sim \\rho$---so long as $|\\mu| < \\infty, \\sigma < \\infty$---then we can characterize the sampling error in the sample mean $\\overline{X}_n$.\n"
   ]
  },
  {
   "cell_type": "markdown",
   "id": "be9c9edb-bcc0-424d-8ad2-578c71e85856",
   "metadata": {},
   "source": [
    "### __qX__ Study CLT convergence behavior\n"
   ]
  },
  {
   "cell_type": "code",
   "execution_count": 4,
   "id": "87f2ad62-1872-4cfa-bc3a-2b920bef3588",
   "metadata": {},
   "outputs": [
    {
     "data": {
      "image/png": "[encoded data removed]",
      "text/plain": [
       "<Figure size 640x480 with 1 Axes>"
      ]
     },
     "metadata": {},
     "output_type": "display_data"
    },
    {
     "data": {
      "text/plain": [
       "<ggplot: (8780525750279)>"
      ]
     },
     "execution_count": 4,
     "metadata": {},
     "output_type": "execute_result"
    }
   ],
   "source": [
    "## TODO: Adjust the sample size n\n",
    "n = 1 # Sample size\n",
    "\n",
    "## NOTE: No need to edit\n",
    "# Draw a large sample\n",
    "df_sample = gr.df_make(x=mg_test.r(5000))\n",
    "\n",
    "(\n",
    "    # Compute mean within each group\n",
    "    df_sample\n",
    "    >> gr.tf_mutate(i=DF.index // n)\n",
    "    >> gr.tf_group_by(DF.i)\n",
    "    >> gr.tf_summarize(\n",
    "        x_mean=gr.mean(DF.x)\n",
    "    )\n",
    "    >> gr.tf_ungroup()\n",
    "    \n",
    "    # Visualize\n",
    "    >> gr.ggplot(gr.aes(\"x_mean\"))\n",
    "    + gr.geom_histogram(gr.aes(y=\"stat(density)\"), bins=30)\n",
    "    + gr.geom_line(\n",
    "        data=gr.df_make(x_mean=gr.linspace(-1.5, +1.5, 100))\n",
    "        >> gr.tf_mutate(\n",
    "            d=gr.marg_mom(\"norm\", mean=0, sd=1/gr.sqrt(n)).d(DF.x_mean)\n",
    "        ),\n",
    "        mapping=gr.aes(y=\"d\"),\n",
    "    )\n",
    ")"
   ]
  },
  {
   "cell_type": "markdown",
   "id": "c5a951a4-d92c-4d13-bcca-dcec69f4eaed",
   "metadata": {},
   "source": [
    "*Observations*\n",
    "\n",
    "<!-- task-begin -->\n",
    "- Around what value of $n$ does the histogram start to look like the normal distribution (black curve)?\n",
    "  - (Your response here)\n",
    "- How does the \"width\" of the histogram change with $n$?\n",
    "  - (Your response here)\n",
    "<!-- task-end -->\n",
    "<!-- solution-begin -->\n",
    "- Around what value of $n$ does the histogram start to look like the normal distribution (black curve)?\n",
    "  - Around values of $n > 10$ the histogram starts to look like a normal distribution.\n",
    "- How does the \"width\" of the histogram change with $n$?\n",
    "  - The \"width\" of the histogram tends to shrink with large $n$, but it shrinks very slowly.\n",
    "<!-- solution-end -->\n"
   ]
  },
  {
   "cell_type": "markdown",
   "id": "fe93810b-0f51-4ada-ae7b-d2b4c51fd328",
   "metadata": {},
   "source": [
    "## Confidence Intervals\n",
    "\n",
    "The CLT-based confidence interval for the mean is given by\n",
    "\n",
    "$$[\\overline{X}_n - z_C \\sigma/\\sqrt{n}, \\overline{X}_n + z_C \\sigma/\\sqrt{n}]$$\n",
    "\n",
    "where $z_C$ is the relevant quantile of a standard normal distribution. This is based on capturing a specified fraction $C$ of the distribution between the interval bounds. For instance, the following code computes $z_C$ for $C = 0.99$.\n"
   ]
  },
  {
   "cell_type": "code",
   "execution_count": 5,
   "id": "d9a695bb-5009-4535-946e-516eb259ec4e",
   "metadata": {},
   "outputs": [
    {
     "name": "stdout",
     "output_type": "stream",
     "text": [
      "z_C = 2.576\n"
     ]
    }
   ],
   "source": [
    "## NOTE: No need to edit, this compute the relevant\n",
    "C = 0.99 # 99% confidence level\n",
    "mg_standard = gr.marg_mom(\"norm\", mean=0, sd=1)\n",
    "z_C = mg_standard.q(1 - (1 - C)/2)\n",
    "print(\"z_C = {0:4.3f}\".format(z_C))\n"
   ]
  },
  {
   "cell_type": "markdown",
   "id": "328cdc29-0520-439a-8f34-2a4ee8e1f3d5",
   "metadata": {},
   "source": [
    "You can compute these CI bounds manually. However, the helper functions `gr.mean_lo()` and `gr.mean_up()` automate these calculations."
   ]
  },
  {
   "cell_type": "markdown",
   "id": "4adfb28e-4508-4b75-a370-d0059b2ac3f9",
   "metadata": {},
   "source": [
    "### __qX__ Compute a confidence interval\n",
    "\n",
    "Use the helper functions `gr.mean_lo()` and `gr.mean_up()` to compute confidence limits for the mean.\n"
   ]
  },
  {
   "cell_type": "code",
   "execution_count": 6,
   "id": "6bfc5110-a6f3-4165-b821-8713356f1287",
   "metadata": {},
   "outputs": [
    {
     "data": {
      "text/html": [
       "<div>\n",
       "<style scoped>\n",
       "    .dataframe tbody tr th:only-of-type {\n",
       "        vertical-align: middle;\n",
       "    }\n",
       "\n",
       "    .dataframe tbody tr th {\n",
       "        vertical-align: top;\n",
       "    }\n",
       "\n",
       "    .dataframe thead th {\n",
       "        text-align: right;\n",
       "    }\n",
       "</style>\n",
       "<table border=\"1\" class=\"dataframe\">\n",
       "  <thead>\n",
       "    <tr style=\"text-align: right;\">\n",
       "      <th></th>\n",
       "      <th>x_lo</th>\n",
       "      <th>x_mean</th>\n",
       "      <th>x_up</th>\n",
       "    </tr>\n",
       "  </thead>\n",
       "  <tbody>\n",
       "    <tr>\n",
       "      <th>0</th>\n",
       "      <td>-0.736378</td>\n",
       "      <td>-0.018733</td>\n",
       "      <td>0.698913</td>\n",
       "    </tr>\n",
       "  </tbody>\n",
       "</table>\n",
       "</div>"
      ],
      "text/plain": [
       "       x_lo    x_mean      x_up\n",
       "0 -0.736378 -0.018733  0.698913"
      ]
     },
     "execution_count": 6,
     "metadata": {},
     "output_type": "execute_result"
    }
   ],
   "source": [
    "## TODO: Compute confidence limits for the mean;\n",
    "# \n",
    "n = 10\n",
    "\n",
    "df_ci = (\n",
    "    gr.df_make(x=mg_test.r(n))\n",
    "    >> gr.tf_summarize(\n",
    "# solution-begin\n",
    "        x_lo=gr.mean_lo(DF.x),\n",
    "# solution-end\n",
    "# task-begin\n",
    "        # x_lo=???\n",
    "# task-end\n",
    "        x_mean=gr.mean(DF.x),\n",
    "# solution-begin\n",
    "        x_up=gr.mean_up(DF.x),\n",
    "# solution-end\n",
    "# task-begin\n",
    "        # x_up=???\n",
    "# task-end\n",
    "    )\n",
    ")\n",
    "\n",
    "## NOTE: Use this to check your work\n",
    "assert \\\n",
    "    \"x_lo\" in df_ci.columns, \\\n",
    "    \"You must compute x_lo\"\n",
    "assert \\\n",
    "    \"x_up\" in df_ci.columns, \\\n",
    "    \"You must compute x_up\"\n",
    "assert \\\n",
    "    df_ci.x_lo[0] < df_ci.x_mean[0], \\\n",
    "    \"x_lo should be smaller than x_mean\"\n",
    "assert \\\n",
    "    df_ci.x_mean[0] < df_ci.x_up[0], \\\n",
    "    \"x_mean should be smaller than x_up\"\n",
    "\n",
    "df_ci"
   ]
  },
  {
   "cell_type": "markdown",
   "id": "866a86f1-562a-40eb-831e-3ed7581e0aae",
   "metadata": {},
   "source": [
    "### __qX__ Study the CI width\n",
    "\n",
    "The following code creates confidence intervals for samples of different sizes $n$. Run the following code, inspect the results, and answer the questions under *observations* below.\n"
   ]
  },
  {
   "cell_type": "code",
   "execution_count": 7,
   "id": "3d78e412-d442-4f8f-b17c-3ad07666a8b7",
   "metadata": {},
   "outputs": [
    {
     "data": {
      "image/png": "[encoded data removed]",
      "text/plain": [
       "<Figure size 640x480 with 1 Axes>"
      ]
     },
     "metadata": {},
     "output_type": "display_data"
    },
    {
     "data": {
      "text/plain": [
       "<ggplot: (8780525612719)>"
      ]
     },
     "execution_count": 7,
     "metadata": {},
     "output_type": "execute_result"
    }
   ],
   "source": [
    "## NOTE: No need to edit\n",
    "df_sweep = gr.df_grid()\n",
    "for i in [10, 20, 40, 80, 160]:\n",
    "    df_sweep = (\n",
    "        df_sweep\n",
    "        >> gr.tf_bind_rows(\n",
    "            gr.df_make(x=mg_test.r(i))\n",
    "            >> gr.tf_summarize(\n",
    "                x_lo=gr.mean_lo(DF.x),\n",
    "                x_up=gr.mean_up(DF.x),\n",
    "            )\n",
    "            >> gr.tf_mutate(\n",
    "                ci_width=DF.x_up - DF.x_lo,\n",
    "                n=i,\n",
    "            )\n",
    "        )\n",
    "    )\n",
    "    \n",
    "(\n",
    "    df_sweep\n",
    "    >> gr.ggplot(gr.aes(\"n\", \"ci_width\"))\n",
    "    + gr.geom_line()\n",
    "    + gr.labs(\n",
    "        x=\"Sample Size n\",\n",
    "        y=\"CI Width\",\n",
    "    )\n",
    ")"
   ]
  },
  {
   "cell_type": "markdown",
   "id": "b5a33dfa-5fda-4a89-9507-f342395ddbed",
   "metadata": {},
   "source": [
    "*Observations*\n",
    "\n",
    "<!-- task-begin -->\n",
    "- Compare the CI width behavior (figure immediately above) with the definition given earlier. What explains the curve above?\n",
    "  - (Your response here)\n",
    "- To halve the CI width, how would you need to change the sample size?\n",
    "  - (Your response here)\n",
    "<!-- task-end -->\n",
    "<!-- solution-begin -->\n",
    "- Compare the CI width behavior (figure immediately above) with the definition given earlier. What explains the curve above?\n",
    "  - The CI expression contains a $\\sigma/\\sqrt{n}$ term; the $1/\\sqrt{n}$ behavior is what we see above.\n",
    "- To halve the CI width, how would you need to change the sample size?\n",
    "  - To halve the CI width, you would need to quadruple the sample size; note that the width goes as $1/\\sqrt{n}$, thus $1/\\sqrt{4n} = 1/(2\\sqrt{n})$. \n",
    "<!-- solution-end -->"
   ]
  },
  {
   "cell_type": "markdown",
   "id": "7fbd7dbb-93bf-4366-9cc2-e873c21d7e8f",
   "metadata": {},
   "source": [
    "# Interpreting Confidence Intervals\n",
    "\n",
    "## Golden Rule of Confidence Intervals\n",
    "\n",
    "```{admonition} The \"Golden Rule\" for interpreting Confidence Intervals\n",
    "When interpreting a confidence interval, we should assume the true value could be anywhere inside the interval.\n",
    "```\n"
   ]
  },
  {
   "cell_type": "markdown",
   "id": "ea7f196a-79a3-46bc-a99f-a334e226e0b2",
   "metadata": {},
   "source": [
    "### __qX__ Interpret these intervals\n",
    "\n",
    "Study the following intervals, answer the questions under *observations* below.\n"
   ]
  },
  {
   "cell_type": "code",
   "execution_count": 16,
   "id": "9e9cd6ad-52fb-4642-919c-5dddc5bb2c2b",
   "metadata": {},
   "outputs": [
    {
     "data": {
      "image/png": "[encoded data removed]",
      "text/plain": [
       "<Figure size 640x480 with 1 Axes>"
      ]
     },
     "metadata": {},
     "output_type": "display_data"
    },
    {
     "data": {
      "text/plain": [
       "<ggplot: (8780526099493)>"
      ]
     },
     "execution_count": 16,
     "metadata": {},
     "output_type": "execute_result"
    }
   ],
   "source": [
    "## NOTE: No need to edit; run and inspect\n",
    "(\n",
    "    gr.df_make(\n",
    "        case=[\"A\", \"B\", \"C\", \"D\"],\n",
    "        x_lo=[ -1,   1,  -2,  -4],\n",
    "        x_mu=[  1, 1.5,  -1,  -3],\n",
    "        x_up=[  4,   2,   1,  -1],\n",
    "    )\n",
    "    >> gr.ggplot(gr.aes(\"case\"))\n",
    "    + gr.geom_errorbar(gr.aes(ymin=\"x_lo\", ymax=\"x_up\"))\n",
    "    + gr.geom_point(gr.aes(y=\"x_mu\"))\n",
    "    + gr.geom_hline(yintercept=0, linetype=\"dashed\")\n",
    "    + gr.coord_flip()\n",
    "    + gr.labs(\n",
    "        y=\"Value\",\n",
    "        x=\"Case\",\n",
    "    )\n",
    ")"
   ]
  },
  {
   "cell_type": "markdown",
   "id": "e1431290",
   "metadata": {},
   "source": [
    "*Observations*\n",
    "\n",
    "<!-- task-begin -->\n",
    "- Is Case A greater than zero?\n",
    "  - (Your response here)\n",
    "- Is Case B greater than zero?\n",
    "  - (Your response here)\n",
    "- Is Case C less than zero?\n",
    "  - (Your response here)\n",
    "- Is Case D less than zero?\n",
    "  - (Your response here)\n",
    "<!-- task-end -->\n",
    "<!-- solution-begin -->\n",
    "- Is Case A greater than zero?\n",
    "  - Unclear; the confidence interval includes zero, so A could very well be negative.\n",
    "- Is Case B greater than zero?\n",
    "  - Most likely yes; the entire confidence interval is greater than zero.\n",
    "- Is Case C less than zero?\n",
    "  - Unclear; the confidence interval includes zero, so C could very well be positive.\n",
    "- Is Case D less than zero?\n",
    "  - Most likely yes; the entire confidence interval is less than zero.\n",
    "<!-- solution-end -->"
   ]
  },
  {
   "cell_type": "markdown",
   "id": "86e7b7b1-e5ef-422f-96fb-f817c630a8c5",
   "metadata": {},
   "source": [
    "## Circuit example\n"
   ]
  },
  {
   "cell_type": "code",
   "execution_count": 9,
   "id": "9edd215c-0427-4e5c-b671-d87ecb2ca829",
   "metadata": {},
   "outputs": [],
   "source": [
    "from grama.models import make_prlc_rand\n",
    "md_circuit = make_prlc_rand()"
   ]
  },
  {
   "cell_type": "markdown",
   "id": "ce9417c6-0203-42cf-a575-6780bd65cdfd",
   "metadata": {},
   "source": [
    "### __qX__ \n"
   ]
  },
  {
   "cell_type": "code",
   "execution_count": 10,
   "id": "0f07ae53-0a92-46f5-9446-181bf55b0773",
   "metadata": {},
   "outputs": [
    {
     "data": {
      "image/png": "[encoded data removed]",
      "text/plain": [
       "<Figure size 640x480 with 1 Axes>"
      ]
     },
     "metadata": {},
     "output_type": "display_data"
    },
    {
     "data": {
      "text/plain": [
       "<ggplot: (8780526611279)>"
      ]
     },
     "execution_count": 10,
     "metadata": {},
     "output_type": "execute_result"
    }
   ],
   "source": [
    "(\n",
    "    md_circuit\n",
    "    >> gr.ev_sample(\n",
    "        n=20, \n",
    "        df_det=gr.df_make(R=1, L=1e-3, C=[0.8, 0.9, 1]),\n",
    "    )\n",
    "    >> gr.tf_group_by(DF.C)\n",
    "    >> gr.tf_summarize(\n",
    "        omega0_lo=gr.mean_lo(DF.omega0),\n",
    "        omega0_mu=gr.mean(DF.omega0),\n",
    "        omega0_up=gr.mean_up(DF.omega0),\n",
    "    )\n",
    "    \n",
    "    >> gr.ggplot(gr.aes(\"factor(C)\"))\n",
    "    + gr.geom_errorbar(gr.aes(ymin=\"omega0_lo\", ymax=\"omega0_up\"))\n",
    "    + gr.geom_point(gr.aes(y=\"omega0_mu\"))\n",
    ")"
   ]
  },
  {
   "cell_type": "markdown",
   "id": "9cff9c0c-8320-47e8-9fd9-812b8f965d9f",
   "metadata": {},
   "source": [
    "## Assessing differences\n",
    "\n",
    "While comparing confidence intervals is better than ignoring uncertainty,\n"
   ]
  },
  {
   "cell_type": "markdown",
   "id": "d75f65c0-2c46-4a6c-a95f-62f586d607d2",
   "metadata": {},
   "source": [
    "# Adjusting Sample Size\n"
   ]
  },
  {
   "cell_type": "markdown",
   "id": "802ae42e-d883-4eff-a07f-51c974d65d0f",
   "metadata": {},
   "source": [
    "# Probability Estimation\n"
   ]
  },
  {
   "cell_type": "code",
   "execution_count": 11,
   "id": "f35dd88a-8176-4e1c-96fe-5869d90a443c",
   "metadata": {},
   "outputs": [],
   "source": [
    "from grama.models import make_cantilever_beam\n",
    "md_beam = make_cantilever_beam()"
   ]
  },
  {
   "cell_type": "markdown",
   "id": "f3b11eed-3fc1-4a0b-a86b-800575da2a99",
   "metadata": {},
   "source": []
  },
  {
   "cell_type": "code",
   "execution_count": 12,
   "id": "1e5dad58-0e6b-4c71-82da-9a6fd6b57f72",
   "metadata": {},
   "outputs": [
    {
     "name": "stdout",
     "output_type": "stream",
     "text": [
      "eval_sample() is rounding n...\n"
     ]
    },
    {
     "data": {
      "text/html": [
       "<div>\n",
       "<style scoped>\n",
       "    .dataframe tbody tr th:only-of-type {\n",
       "        vertical-align: middle;\n",
       "    }\n",
       "\n",
       "    .dataframe tbody tr th {\n",
       "        vertical-align: top;\n",
       "    }\n",
       "\n",
       "    .dataframe thead th {\n",
       "        text-align: right;\n",
       "    }\n",
       "</style>\n",
       "<table border=\"1\" class=\"dataframe\">\n",
       "  <thead>\n",
       "    <tr style=\"text-align: right;\">\n",
       "      <th></th>\n",
       "      <th>pof_stress</th>\n",
       "      <th>pof_joint</th>\n",
       "      <th>pof_either</th>\n",
       "    </tr>\n",
       "  </thead>\n",
       "  <tbody>\n",
       "    <tr>\n",
       "      <th>0</th>\n",
       "      <td>0.0359</td>\n",
       "      <td>0.0134</td>\n",
       "      <td>0.0682</td>\n",
       "    </tr>\n",
       "  </tbody>\n",
       "</table>\n",
       "</div>"
      ],
      "text/plain": [
       "   pof_stress  pof_joint  pof_either\n",
       "0      0.0359     0.0134      0.0682"
      ]
     },
     "execution_count": 12,
     "metadata": {},
     "output_type": "execute_result"
    }
   ],
   "source": [
    "(\n",
    "    md_beam\n",
    "    >> gr.ev_sample(n=1e4, df_det=\"nom\")\n",
    "    >> gr.tf_summarize(\n",
    "        pof_stress=gr.pr(DF.g_stress <= 0),\n",
    "        pof_joint=gr.pr( (DF.g_stress <= 0) & (DF.g_disp <= 0) ),\n",
    "        pof_either=gr.pr( (DF.g_stress <= 0) | (DF.g_disp <= 0) ),\n",
    "    )\n",
    ")"
   ]
  },
  {
   "cell_type": "markdown",
   "id": "e56db505-7b9c-4c57-ae22-6ca29ef88b96",
   "metadata": {},
   "source": []
  },
  {
   "cell_type": "code",
   "execution_count": 13,
   "id": "31fa88a9-1145-4621-a11c-29d1296e1592",
   "metadata": {},
   "outputs": [
    {
     "data": {
      "text/html": [
       "<div>\n",
       "<style scoped>\n",
       "    .dataframe tbody tr th:only-of-type {\n",
       "        vertical-align: middle;\n",
       "    }\n",
       "\n",
       "    .dataframe tbody tr th {\n",
       "        vertical-align: top;\n",
       "    }\n",
       "\n",
       "    .dataframe thead th {\n",
       "        text-align: right;\n",
       "    }\n",
       "</style>\n",
       "<table border=\"1\" class=\"dataframe\">\n",
       "  <thead>\n",
       "    <tr style=\"text-align: right;\">\n",
       "      <th></th>\n",
       "      <th>pof_lo</th>\n",
       "      <th>pof</th>\n",
       "      <th>pof_up</th>\n",
       "    </tr>\n",
       "  </thead>\n",
       "  <tbody>\n",
       "    <tr>\n",
       "      <th>0</th>\n",
       "      <td>0.0</td>\n",
       "      <td>0.0</td>\n",
       "      <td>0.249105</td>\n",
       "    </tr>\n",
       "  </tbody>\n",
       "</table>\n",
       "</div>"
      ],
      "text/plain": [
       "   pof_lo  pof    pof_up\n",
       "0     0.0  0.0  0.249105"
      ]
     },
     "execution_count": 13,
     "metadata": {},
     "output_type": "execute_result"
    }
   ],
   "source": [
    "(\n",
    "    md_beam\n",
    "    >> gr.ev_sample(n=20, df_det=\"nom\")\n",
    "    >> gr.tf_summarize(\n",
    "        pof_lo=gr.pr_lo(DF.g_stress <= 0),\n",
    "        pof=gr.pr(DF.g_stress <= 0),\n",
    "        pof_up=gr.pr_up(DF.g_stress <= 0),\n",
    "    )\n",
    ")"
   ]
  },
  {
   "cell_type": "markdown",
   "id": "a9260efa",
   "metadata": {},
   "source": [
    "# Real vs Error\n"
   ]
  },
  {
   "cell_type": "markdown",
   "id": "1e15544a",
   "metadata": {},
   "source": [
    "### __qX__ \n",
    "\n",
    "(TODO Some exercise emphasizing when to take a mean or a probability)\n"
   ]
  }
 ],
 "metadata": {
  "kernelspec": {
   "display_name": "Python 3 (ipykernel)",
   "language": "python",
   "name": "python3"
  },
  "language_info": {
   "codemirror_mode": {
    "name": "ipython",
    "version": 3
   },
   "file_extension": ".py",
   "mimetype": "text/x-python",
   "name": "python",
   "nbconvert_exporter": "python",
   "pygments_lexer": "ipython3",
   "version": "3.9.7"
  }
 },
 "nbformat": 4,
 "nbformat_minor": 5
}
