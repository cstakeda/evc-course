{
 "cells": [
  {
   "cell_type": "markdown",
   "id": "498edd8e-29f8-43a1-b187-6dcb86adee10",
   "metadata": {},
   "source": [
    "# Data: Deriving Quantities\n",
    "\n",
    "*Purpose*: Often our data will not tell us *directly* what we want to know; in\n",
    "these cases we need to *derive* new quantities from our data. In this exercise,\n",
    "we'll work with `tf_mutate()` to create new columns by operating on existing\n",
    "variables, and use `tf_group_by()` with `tf_summarize()` to compute aggregate\n",
    "statistics (summaries!) of our data.\n",
    "\n",
    "Aside: The data-summary verbs in grama are heavily inspired by the [dplyr](https://dplyr.tidyverse.org/) package in the R programming langauge. "
   ]
  },
  {
   "cell_type": "markdown",
   "id": "5bc6cde0-a799-4bc0-919f-30f0f3ebd12d",
   "metadata": {},
   "source": [
    "## Setup"
   ]
  },
  {
   "cell_type": "code",
   "execution_count": null,
   "id": "db3436b2-1a80-4d8a-8344-9652545fca61",
   "metadata": {},
   "outputs": [],
   "source": [
    "import grama as gr\n",
    "import pandas as pd\n",
    "DF = gr.Intention()\n",
    "%matplotlib inline"
   ]
  },
  {
   "cell_type": "markdown",
   "id": "54f55e0e-5e5d-44fb-990a-b6b6f3a9ac07",
   "metadata": {},
   "source": [
    "We'll be using the `diamonds` as seen in `e-vis00-basics` earlier. "
   ]
  },
  {
   "cell_type": "code",
   "execution_count": null,
   "id": "5bf3a739-5646-4812-ba95-5f967a50f585",
   "metadata": {},
   "outputs": [],
   "source": [
    "from grama.data import df_diamonds\n",
    "df_diamonds.head(10)"
   ]
  },
  {
   "cell_type": "markdown",
   "id": "84d6fe44-47f6-41e9-b32c-a7f5f3c8ca4a",
   "metadata": {
    "tags": []
   },
   "source": [
    "## Summarizing Data Frames"
   ]
  },
  {
   "cell_type": "markdown",
   "id": "408ba5d7-ade7-4eec-bb2f-8905608aca30",
   "metadata": {},
   "source": [
    "The `tf_summarize()` function in [grama](https://py-grama.readthedocs.io/en/latest/source/grama.dfply.html?highlight=tf_summarize#module-grama.dfply.summarize) is used to compute new variables and summary statistics. With `tf_summarize()` you can pass a data frame with arguments that assign the summary statistic's value and column name. Each argument should generate a single summary statistic for the output dataframe. "
   ]
  },
  {
   "cell_type": "markdown",
   "id": "d1bba7ff-d202-474a-9862-7b5f18dbef83",
   "metadata": {},
   "source": [
    "| Type | Functions |\n",
    "| ---- | --------- |\n",
    "| Location | `gr.mean(x), gr.median(x), gr.mean_lo, gr.mean_up, gr.min(x), gr.max(x)` |\n",
    "| Spread | `gr.sd(x), gr.var(x), gr.IQR(x)` |\n",
    "| Position | `gr.first(x), gr.nth(x, n), gr.last(x)` |\n",
    "| Counts | `gr.n_distinct(x), gr.n()` |\n",
    "| Logical | `gr.sum(x != 0), gr.mean(y == 0)` |"
   ]
  },
  {
   "cell_type": "markdown",
   "id": "f38e5f2c-a279-4862-be63-d2710088e966",
   "metadata": {},
   "source": [
    "### __q1__ Use `tf_summarize()` with a logical function\n",
    "\n",
    "Using `summarize()` and a logical summary function, determine the number of rows with `Ideal` type of `cut`. Save this value to a column called `n_ideal`."
   ]
  },
  {
   "cell_type": "code",
   "execution_count": null,
   "id": "850dce8a-f304-49e9-af51-13840f9981c3",
   "metadata": {},
   "outputs": [],
   "source": [
    "# TASK: Determine the number of obsevations with an 'Ideal' diamond 'cut.' Assign this value as 'n_ideal'\n",
    "\n",
    "df_q1 = (\n",
    "    df_diamonds\n",
    "    >> gr.tf_summarize(\n",
    "# solution-start\n",
    "        n_ideal=gr.sum(DF.cut == \"Ideal\")\n",
    "# solution-end\n",
    "    )\n",
    ")\n",
    "\n",
    "assert \\\n",
    "    df_q1[\"n_ideal\"][0]/23==937,\\\n",
    "    \"Sum does not match expected value\"\n",
    "\n",
    "df_q1"
   ]
  },
  {
   "cell_type": "markdown",
   "id": "5d356ff2-b633-4ab5-8f15-0b7c3d4e7a90",
   "metadata": {},
   "source": [
    "## Grouping multiple variables\n",
    "\n",
    "The `tf_group_by()` takes a data frame and then the names of one or more columns in the data frame. It returns a copy of the data frame that has been “grouped” into sets of rows that share identical combinations of values in the specified columns. When passing a grouped data frame into `tf_summarize()` it will calculate your summary statistics ina group-wise manner. \n",
    "\n",
    "**DRAFT NOTE:** Copied directly from the RStudio article"
   ]
  },
  {
   "cell_type": "markdown",
   "id": "9a97b175-9c48-4c33-a24b-6d37a43cfd41",
   "metadata": {},
   "source": [
    "### __q2__ How does `tf_group_by()` change the output to `tf_summarize()`?\n",
    "\n",
    "The `tf_group_by()` modifies how other data-management verbs function. Uncomment the `tf_group_by()` below, and describe how the result changes."
   ]
  },
  {
   "cell_type": "code",
   "execution_count": null,
   "id": "8d2bd6a1-088d-4d0d-abbf-5be54a7ac99a",
   "metadata": {},
   "outputs": [],
   "source": [
    "#TASK: Uncomment the tf_group_by() below, and describe how the result changes\n",
    "\n",
    "df_q2 = (\n",
    "    df_diamonds\n",
    "#    >> gr.tf_group_by(DF[\"color\"],DF[\"clarity\"])\n",
    "    >> gr.tf_summarize(diamonds_mean=gr.mean(DF[\"price\"]))\n",
    ")\n",
    "\n",
    "df_q2"
   ]
  },
  {
   "cell_type": "markdown",
   "id": "b9161f01-4a14-487a-b2ad-adb5786ed3f2",
   "metadata": {},
   "source": [
    "*Observations*\n",
    "<!-- task-begin -->\n",
    "- Write your observations here!\n",
    "<!-- task-end -->\n",
    "<!-- solution-begin -->\n",
    "- The commented version computes a summary over the entire dataframe\n",
    "- The uncommented version computes summaries over groups of `color` and `clarity`\n",
    "<!-- solution-end -->\n"
   ]
  },
  {
   "cell_type": "markdown",
   "id": "eac689ed-93b2-4c72-901e-9925cfe73a56",
   "metadata": {},
   "source": [
    "## Vectorized Functions"
   ]
  },
  {
   "cell_type": "markdown",
   "id": "cb05dd65-2959-4b76-901d-5807efcce612",
   "metadata": {},
   "source": [
    "| Type | Functions |\n",
    "| ---- | --------- |\n",
    "| Arithmetic ops. | `+, -, *, /, ^` |\n",
    "| Modular arith. | `//, %` |\n",
    "| Logical comp. | `<, <=, >, >=, !=, ==` |\n",
    "| Logarithms | `gr.log(x)` |\n",
    "| Offsets | `gr.lead(x), gr.lag(x)` |\n",
    "| Cumulants | `gr.cumsum(x), gr.cumprod(x), gr.cummin(x), gr.cummax(x), gr.cummean(x)` |\n",
    "| Ranking | `gr.min_rank(x), gr.row_number(x), gr.dense_rank(x), gr.percent_rank(x)` |\n"
   ]
  },
  {
   "cell_type": "markdown",
   "id": "7f93e9b8-66d8-4c51-b484-ff31c2f21fa0",
   "metadata": {},
   "source": [
    "### __q3__ Comment on why the difference is so large."
   ]
  },
  {
   "cell_type": "markdown",
   "id": "c0f19241-a1d5-4977-9e40-df732ec72b70",
   "metadata": {},
   "source": [
    "The `depth` variable is supposedly computed via `depth_computed = 100 * 2 * DF[\"z\"] /\n",
    "(DF[\"x\"] + DF[\"y\"])`. Compute `diff = DF[\"depth\"] - DF[\"depth_computed\"]`: This is a measure of\n",
    "discrepancy between the given and computed depth. Additionally, compute the\n",
    "*coefficient of variation* `cov = sd / mean` for both `depth` and `diff`:\n",
    "This is a dimensionless measure of variation in a variable. Assign the resulting\n",
    "tibble to `df_q3`, and assign the appropriate values to `cov_depth` and\n",
    "`cov_diff`. Comment on the relative values of `cov_depth` and `cov_diff`; why is\n",
    "`cov_diff` so large?\n",
    "\n",
    "*Note*: Confusingly, the documentation for `diamonds` leaves out the factor of `100` in the computation of `depth`. Additionally, by default the `pandas` library will exclude values equal to `NaN` in functions like `gr.mean()` or `gr.sd()`"
   ]
  },
  {
   "cell_type": "code",
   "execution_count": null,
   "id": "b5c36334-4215-4f5b-a9f1-c9cc96b59eed",
   "metadata": {},
   "outputs": [],
   "source": [
    "df_q3 = (\n",
    "    df_diamonds \n",
    "# solution-begin    \n",
    "    >> gr.tf_mutate(depth_computed=100 * 2 * DF[\"z\"] / (DF[\"x\"] + DF[\"y\"]))\n",
    "    >> gr.tf_mutate(diff = DF[\"depth\"]- DF[\"depth_computed\"])\n",
    "    >> gr.tf_mutate(\n",
    "        depth_mean=gr.mean(DF[\"depth\"]),\n",
    "        depth_sd=gr.sd(DF[\"depth\"]),\n",
    "        diff_mean=gr.mean(DF[\"diff\"]),\n",
    "        diff_sd=gr.sd(DF[\"diff\"]),\n",
    "        diff_median = gr.median(DF[\"diff\"])\n",
    "    )\n",
    "    >> gr.tf_mutate(\n",
    "        cov_depth=DF[\"depth_sd\"] / DF[\"depth_mean\"],\n",
    "        cov_diff=DF[\"diff_sd\"] / DF[\"diff_mean\"],\n",
    "        c_diff=gr.IQR(DF[\"diff\"]/DF[\"diff_median\"])\n",
    "    )\n",
    "    >> gr.tf_select(DF[\"depth_mean\"],DF[\"depth_sd\"],DF[\"cov_depth\"],DF[\"diff_mean\"],DF[\"diff_sd\"],DF[\"cov_diff\"],DF[\"c_diff\"])\n",
    "# solution-end\n",
    ")\n",
    "\n",
    "assert \\\n",
    "    df_q3[\"cov_depth\"][0] - 0.02320057 < 1e-3 and\\\n",
    "    df_q3[\"cov_diff\"][0]- 497.5585 < 1e-3,\\\n",
    "    \"Double check your calculations for depth and diff\"\n",
    "\n",
    "df_q3.head(1) \n",
    "\n",
    "#DRAFT NOTE: This is unelegant way to get the correct answer. Unclear how to pass forward variables in a summarize call or reorganize order with a select call"
   ]
  },
  {
   "cell_type": "markdown",
   "id": "e36ec12d-355d-42bf-a01b-b3ff459a7c21",
   "metadata": {},
   "source": [
    "**Observation**\n",
    "\n",
    "<!-- task-begin -->\n",
    "- Comment on the relative values of `cov_depth` and `cov_diff`.\n",
    "- Why is `cov_diff` so large?\n",
    "<!-- task-end -->\n",
    "<!-- solution-begin -->\n",
    "- `cov_depth` is tiny; there's not much variation in the depth, compared to its scale.\n",
    "- `cov_diff` is enormous! This is because the mean difference between `depth` and `depth_computed` is small, which causes the `cov` to blow up.\n",
    "<!-- solution-end -->"
   ]
  },
  {
   "cell_type": "markdown",
   "id": "55b9296d-7dda-4c2f-bc84-50623425aa9b",
   "metadata": {},
   "source": [
    "### __q4__ Compute and observe"
   ]
  },
  {
   "cell_type": "markdown",
   "id": "728ccede-8011-4dcc-a183-af9e5fa0da63",
   "metadata": {},
   "source": [
    "Compute the `price_mean = mean(price)`, `price_sd = sd(price)`, and `price_cov =\n",
    "price_sd / price_mean` for each `cut` of diamond. What observations can you make\n",
    "about the various cuts? Do those observations match your expectations?"
   ]
  },
  {
   "cell_type": "code",
   "execution_count": null,
   "id": "8da34e00-7860-420b-b277-9ab206f8eb7f",
   "metadata": {},
   "outputs": [],
   "source": [
    "# TASK: Compute the `price_mean = gr.mean(DF[\"price\"])`, `price_sd = gr.sd(DF[\"price\"])`, and `price_cov = price_sd / price_mean` for each `cut` of diamond. \n",
    "\n",
    "df_q4=(\n",
    "    df_diamonds\n",
    "# solution-begin    \n",
    "    >> gr.tf_group_by(DF[\"cut\"])\n",
    "    >> gr.tf_summarize(\n",
    "        price_mean=gr.mean(DF[\"price\"]),\n",
    "        price_sd=gr.sd(DF[\"price\"]),\n",
    "    )\n",
    "    >> gr.tf_mutate(price_cov=DF[\"price_sd\"]/DF[\"price_mean\"])\n",
    "# solution-end\n",
    ")\n",
    "\n",
    "df_q4"
   ]
  },
  {
   "cell_type": "code",
   "execution_count": null,
   "id": "dfc0a81b-b0ec-4610-9c46-6ed14defbfab",
   "metadata": {},
   "outputs": [],
   "source": [
    "# DRAFT NOTE: Reading mutate_helpers.py I was expecting to be able to pass either a integer 3 after the DF.price_cov or pass the argument 'decimals = 3' per the np.round() documentation.\n",
    "# Neither worked so I wasn't sure how to go about the assert for validating the provided answer. \n",
    "\n",
    "df_q4_check = (\n",
    "    df_q4\n",
    "        >> gr.tf_select(DF[\"cut\"], DF[\"price_cov\"]) \n",
    "        >> gr.tf_mutate(price_cov = gr.round(DF[\"price_cov\"]))\n",
    "        #>> gr.tf_mutate(price_cov = gr.round(DF[\"price_cov\"], 3)) <- Expected  round call\n",
    ")\n",
    "df_q4_check"
   ]
  },
  {
   "cell_type": "markdown",
   "id": "cbca0567-1d35-435a-8057-32ac01081ef7",
   "metadata": {},
   "source": [
    "*Observations*\n",
    "<!-- task-begin -->\n",
    "- Write your observations here!\n",
    "<!-- task-end -->\n",
    "<!-- solution-begin -->\n",
    "- I would expect the `Ideal` diamonds to have the highest price, but that's not the case!\n",
    "- The `COV` for each cut is very large, on the order of 80 to 110 percent! To me, this implies that the other variables `clarity, carat, color` account for a large portion of the diamond price.\n",
    "<!-- solution-end -->"
   ]
  }
 ],
 "metadata": {
  "kernelspec": {
   "display_name": "Python 3 (ipykernel)",
   "language": "python",
   "name": "python3"
  },
  "language_info": {
   "codemirror_mode": {
    "name": "ipython",
    "version": 3
   },
   "file_extension": ".py",
   "mimetype": "text/x-python",
   "name": "python",
   "nbconvert_exporter": "python",
   "pygments_lexer": "ipython3",
   "version": "3.9.7"
  }
 },
 "nbformat": 4,
 "nbformat_minor": 5
}
